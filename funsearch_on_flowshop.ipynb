{
  "cells": [
    {
      "cell_type": "markdown",
      "metadata": {
        "id": "view-in-github",
        "colab_type": "text"
      },
      "source": [
        "<a href=\"https://colab.research.google.com/github/Sakura-RaidenMEI/Funsearch_on_flowshop/blob/main/funsearch_on_flowshop.ipynb\" target=\"_parent\"><img src=\"https://colab.research.google.com/assets/colab-badge.svg\" alt=\"Open In Colab\"/></a>"
      ]
    },
    {
      "cell_type": "markdown",
      "id": "14141f33cfbaa4b3",
      "metadata": {
        "id": "14141f33cfbaa4b3"
      },
      "source": [
        "# Flow-Shop Problem-Solving with Google `FunSearch`"
      ]
    },
    {
      "cell_type": "markdown",
      "id": "3574018938f2cee9",
      "metadata": {
        "id": "3574018938f2cee9"
      },
      "source": [
        "> Authors: CUI Guangyuan, LI Songyan, XU Zhuojun"
      ]
    },
    {
      "cell_type": "markdown",
      "id": "8d1064f39f011527",
      "metadata": {
        "id": "8d1064f39f011527"
      },
      "source": [
        "This notebook is the main entrance of our work on the flow-shop problems' solving using Google `FunSearch` via various attempts. Mainly, the applications of existing methods on the problem-solving can be divided into three categories: baseline experiments including the applications of Google `FunSearch` and `OR-Tools` as well as the existing heuristics (only NEH algorithm). New approaches are also proposed in this research, including:\n",
        "\n",
        "- Trials on different kinds of prompts (Prompt Engineering)\n",
        "- FunSearch with Curriculum Learning"
      ]
    },
    {
      "cell_type": "markdown",
      "id": "0add8e30",
      "metadata": {
        "id": "0add8e30"
      },
      "source": [
        "> Environment setup before the execution (**IMPORTANT**)(**For Local Run**):\n",
        "> - Our experiments are operated under the anaconda virtual environment\n",
        ">\n",
        "> You can follow the instructions below to setup the correct environment:\n",
        "> - `conda create -n funsearch_env -f environment.yml`"
      ]
    },
    {
      "cell_type": "markdown",
      "source": [
        "**Run on COLAB**"
      ],
      "metadata": {
        "id": "N0cX_ekxQf3N"
      },
      "id": "N0cX_ekxQf3N"
    },
    {
      "cell_type": "code",
      "source": [
        "!git clone https://github.com/CityU-CS-2025Spring-ProjectGroup/Flowshop-FunSearch.git"
      ],
      "metadata": {
        "colab": {
          "base_uri": "https://localhost:8080/"
        },
        "id": "fBtJQl-BQg80",
        "outputId": "5c28491a-f55c-4514-8286-5348aae448e3"
      },
      "id": "fBtJQl-BQg80",
      "execution_count": null,
      "outputs": [
        {
          "output_type": "stream",
          "name": "stdout",
          "text": [
            "Cloning into 'Flowshop-FunSearch'...\n",
            "remote: Enumerating objects: 172, done.\u001b[K\n",
            "remote: Counting objects: 100% (172/172), done.\u001b[K\n",
            "remote: Compressing objects: 100% (136/136), done.\u001b[K\n",
            "remote: Total 172 (delta 54), reused 143 (delta 32), pack-reused 0 (from 0)\u001b[K\n",
            "Receiving objects: 100% (172/172), 1.24 MiB | 13.26 MiB/s, done.\n",
            "Resolving deltas: 100% (54/54), done.\n"
          ]
        }
      ]
    },
    {
      "cell_type": "code",
      "source": [
        "!pip install func-timeout\n",
        "!pip install ortools"
      ],
      "metadata": {
        "colab": {
          "base_uri": "https://localhost:8080/"
        },
        "id": "5iTNEGdAQit3",
        "outputId": "ada50c51-b714-4b2d-8fec-ea72c8140cc6"
      },
      "id": "5iTNEGdAQit3",
      "execution_count": null,
      "outputs": [
        {
          "output_type": "stream",
          "name": "stdout",
          "text": [
            "Collecting func-timeout\n",
            "  Downloading func_timeout-4.3.5.tar.gz (44 kB)\n",
            "\u001b[?25l     \u001b[90m━━━━━━━━━━━━━━━━━━━━━━━━━━━━━━━━━━━━━━━━\u001b[0m \u001b[32m0.0/44.3 kB\u001b[0m \u001b[31m?\u001b[0m eta \u001b[36m-:--:--\u001b[0m\r\u001b[2K     \u001b[90m━━━━━━━━━━━━━━━━━━━━━━━━━━━━━━━━━━━━━━━━\u001b[0m \u001b[32m44.3/44.3 kB\u001b[0m \u001b[31m1.7 MB/s\u001b[0m eta \u001b[36m0:00:00\u001b[0m\n",
            "\u001b[?25h  Preparing metadata (setup.py) ... \u001b[?25l\u001b[?25hdone\n",
            "Building wheels for collected packages: func-timeout\n",
            "  Building wheel for func-timeout (setup.py) ... \u001b[?25l\u001b[?25hdone\n",
            "  Created wheel for func-timeout: filename=func_timeout-4.3.5-py3-none-any.whl size=15077 sha256=b0b2562cc2738e36729e8b3feef27146059781a2188b462abf9766fca49cb4ee\n",
            "  Stored in directory: /root/.cache/pip/wheels/07/e6/86/f23164d12c3134966614102db8e7956ab359faf7ffd78703ce\n",
            "Successfully built func-timeout\n",
            "Installing collected packages: func-timeout\n",
            "Successfully installed func-timeout-4.3.5\n",
            "Collecting ortools\n",
            "  Downloading ortools-9.12.4544-cp311-cp311-manylinux_2_27_x86_64.manylinux_2_28_x86_64.whl.metadata (3.3 kB)\n",
            "Collecting absl-py>=2.0.0 (from ortools)\n",
            "  Downloading absl_py-2.2.2-py3-none-any.whl.metadata (2.6 kB)\n",
            "Requirement already satisfied: numpy>=1.13.3 in /usr/local/lib/python3.11/dist-packages (from ortools) (2.0.2)\n",
            "Requirement already satisfied: pandas>=2.0.0 in /usr/local/lib/python3.11/dist-packages (from ortools) (2.2.2)\n",
            "Requirement already satisfied: protobuf<5.30,>=5.29.3 in /usr/local/lib/python3.11/dist-packages (from ortools) (5.29.4)\n",
            "Requirement already satisfied: immutabledict>=3.0.0 in /usr/local/lib/python3.11/dist-packages (from ortools) (4.2.1)\n",
            "Requirement already satisfied: python-dateutil>=2.8.2 in /usr/local/lib/python3.11/dist-packages (from pandas>=2.0.0->ortools) (2.8.2)\n",
            "Requirement already satisfied: pytz>=2020.1 in /usr/local/lib/python3.11/dist-packages (from pandas>=2.0.0->ortools) (2025.2)\n",
            "Requirement already satisfied: tzdata>=2022.7 in /usr/local/lib/python3.11/dist-packages (from pandas>=2.0.0->ortools) (2025.2)\n",
            "Requirement already satisfied: six>=1.5 in /usr/local/lib/python3.11/dist-packages (from python-dateutil>=2.8.2->pandas>=2.0.0->ortools) (1.17.0)\n",
            "Downloading ortools-9.12.4544-cp311-cp311-manylinux_2_27_x86_64.manylinux_2_28_x86_64.whl (24.9 MB)\n",
            "\u001b[2K   \u001b[90m━━━━━━━━━━━━━━━━━━━━━━━━━━━━━━━━━━━━━━━━\u001b[0m \u001b[32m24.9/24.9 MB\u001b[0m \u001b[31m81.3 MB/s\u001b[0m eta \u001b[36m0:00:00\u001b[0m\n",
            "\u001b[?25hDownloading absl_py-2.2.2-py3-none-any.whl (135 kB)\n",
            "\u001b[2K   \u001b[90m━━━━━━━━━━━━━━━━━━━━━━━━━━━━━━━━━━━━━━━━\u001b[0m \u001b[32m135.6/135.6 kB\u001b[0m \u001b[31m11.6 MB/s\u001b[0m eta \u001b[36m0:00:00\u001b[0m\n",
            "\u001b[?25hInstalling collected packages: absl-py, ortools\n",
            "  Attempting uninstall: absl-py\n",
            "    Found existing installation: absl-py 1.4.0\n",
            "    Uninstalling absl-py-1.4.0:\n",
            "      Successfully uninstalled absl-py-1.4.0\n",
            "Successfully installed absl-py-2.2.2 ortools-9.12.4544\n"
          ]
        }
      ]
    },
    {
      "cell_type": "markdown",
      "id": "61414801e69a5f2d",
      "metadata": {
        "id": "61414801e69a5f2d"
      },
      "source": [
        "## Dataset for Evaluation and Testing"
      ]
    },
    {
      "cell_type": "code",
      "execution_count": null,
      "id": "52c2ea84",
      "metadata": {
        "id": "52c2ea84"
      },
      "outputs": [],
      "source": [
        "instance1 = \"/content/Flowshop-FunSearch/data/carlier/carlier1.txt\"\n",
        "instance2 = \"/content/Flowshop-FunSearch/data/carlier/carlier2.txt\"\n",
        "instance3 = \"/content/Flowshop-FunSearch/data/heller/heller1.txt\"\n",
        "instance4 = \"/content/Flowshop-FunSearch/data/heller/heller2.txt\"\n",
        "instance5 = \"/content/Flowshop-FunSearch/data/reeves/reeves1.txt\"\n",
        "instance6 = \"/content/Flowshop-FunSearch/data/reeves/reeves2.txt\"\n",
        "instance7 = \"/content/Flowshop-FunSearch/data/reeves/reeves3.txt\"\n",
        "\n",
        "instances = [\n",
        "    instance1,\n",
        "    instance2,\n",
        "    # instance3,\n",
        "    instance4,\n",
        "    instance5,\n",
        "    instance6,\n",
        "    instance7\n",
        "]"
      ]
    },
    {
      "cell_type": "markdown",
      "id": "a4cc7fa426bcdefd",
      "metadata": {
        "id": "a4cc7fa426bcdefd"
      },
      "source": [
        "## Baseline Experiments"
      ]
    },
    {
      "cell_type": "markdown",
      "id": "bf275618774b36f9",
      "metadata": {
        "id": "bf275618774b36f9"
      },
      "source": [
        "### Existing Heuristics"
      ]
    },
    {
      "cell_type": "code",
      "execution_count": null,
      "id": "e2a2a7f6",
      "metadata": {
        "id": "e2a2a7f6"
      },
      "outputs": [],
      "source": [
        "import time\n",
        "import matplotlib.pyplot as plt\n",
        "from matplotlib.patches import Patch"
      ]
    },
    {
      "cell_type": "markdown",
      "id": "28a9fce0",
      "metadata": {
        "id": "28a9fce0"
      },
      "source": [
        "Parse the input data:"
      ]
    },
    {
      "cell_type": "code",
      "execution_count": null,
      "id": "22d6a6b9",
      "metadata": {
        "id": "22d6a6b9"
      },
      "outputs": [],
      "source": [
        "def parse_input(input_data):\n",
        "    lines = input_data.strip().split('\\n')\n",
        "    n_jobs, n_machines = map(int, lines[0].split())\n",
        "\n",
        "    jobs = []\n",
        "    for i in range(1, n_jobs + 1):\n",
        "        job_data = lines[i].split()\n",
        "        job = []\n",
        "        for j in range(0, 2 * n_machines, 2):\n",
        "            machine = int(job_data[j])\n",
        "            processing_time = int(job_data[j + 1])\n",
        "            job.append((machine, processing_time))\n",
        "        jobs.append(job)\n",
        "\n",
        "    return n_jobs, n_machines, jobs"
      ]
    },
    {
      "cell_type": "markdown",
      "id": "0ef3b69a",
      "metadata": {
        "id": "0ef3b69a"
      },
      "source": [
        "Calculate makespan for a given job sequence:"
      ]
    },
    {
      "cell_type": "code",
      "execution_count": null,
      "id": "5dc43584",
      "metadata": {
        "id": "5dc43584"
      },
      "outputs": [],
      "source": [
        "def calculate_makespan(jobs, job_sequence, n_machines):\n",
        "    machine_times = [0] * n_machines\n",
        "\n",
        "    for job_idx in job_sequence:\n",
        "        job = jobs[job_idx]\n",
        "        for (machine, processing_time) in job:\n",
        "            if machine == 0:\n",
        "                machine_times[machine] = machine_times[machine] + processing_time\n",
        "            else:\n",
        "                machine_times[machine] = max(machine_times[machine], machine_times[machine - 1]) + processing_time\n",
        "\n",
        "    return machine_times[-1]"
      ]
    },
    {
      "cell_type": "markdown",
      "id": "4f625f45",
      "metadata": {
        "id": "4f625f45"
      },
      "source": [
        "Function to visualize the schedule:"
      ]
    },
    {
      "cell_type": "code",
      "execution_count": null,
      "id": "18f00037",
      "metadata": {
        "id": "18f00037"
      },
      "outputs": [],
      "source": [
        "def visualize_schedule(jobs, job_sequence, n_machines, algorithm_name):\n",
        "    # Calculate start and end times for each operation\n",
        "    machine_times = [0] * n_machines\n",
        "    schedule = []\n",
        "\n",
        "    for job_idx in job_sequence:\n",
        "        job = jobs[job_idx]\n",
        "        job_schedule = []\n",
        "\n",
        "        for machine, processing_time in job:\n",
        "            if machine == 0:\n",
        "                start_time = machine_times[machine]\n",
        "            else:\n",
        "                start_time = max(machine_times[machine], machine_times[machine - 1])\n",
        "\n",
        "            end_time = start_time + processing_time\n",
        "            machine_times[machine] = end_time\n",
        "            job_schedule.append((machine, start_time, end_time))\n",
        "\n",
        "        schedule.append(job_schedule)\n",
        "\n",
        "    # Create the visualization\n",
        "    fig, ax = plt.subplots(figsize=(12, 6))\n",
        "\n",
        "    # Define colors for jobs\n",
        "    colors = plt.cm.tab10.colors\n",
        "\n",
        "    # Plot each operation\n",
        "    for i, job_schedule in enumerate(schedule):\n",
        "        job_idx = job_sequence[i]\n",
        "        for machine, start, end in job_schedule:\n",
        "            ax.barh(machine, end - start, left=start, height=0.8,\n",
        "                   color=colors[job_idx % len(colors)], alpha=0.8,\n",
        "                   edgecolor='black', linewidth=1)\n",
        "\n",
        "            # Add job number label\n",
        "            if end - start > 30:  # Only add text if bar is wide enough\n",
        "                ax.text(start + (end - start) / 2, machine, f'J{job_idx}',\n",
        "                       ha='center', va='center', color='black', fontweight='bold')\n",
        "\n",
        "    # Add legend\n",
        "    legend_elements = [Patch(facecolor=colors[i % len(colors)], edgecolor='black', label=f'Job {i}')\n",
        "                      for i in range(len(jobs))]\n",
        "    ax.legend(handles=legend_elements, loc='upper right')\n",
        "\n",
        "    # Set labels and title\n",
        "    ax.set_xlabel('Time')\n",
        "    ax.set_ylabel('Machine')\n",
        "    ax.set_yticks(range(n_machines))\n",
        "    ax.set_yticklabels([f'Machine {i}' for i in range(n_machines)])\n",
        "    ax.set_title(f'Flow Shop Schedule - {algorithm_name}\\nMakespan: {machine_times[-1]}')\n",
        "\n",
        "    # Add grid\n",
        "    ax.grid(True, axis='x', linestyle='--', alpha=0.7)\n",
        "\n",
        "    plt.tight_layout()\n",
        "    return fig"
      ]
    },
    {
      "cell_type": "markdown",
      "id": "7b9d0943",
      "metadata": {
        "id": "7b9d0943"
      },
      "source": [
        "Definition of NEH algorithm:"
      ]
    },
    {
      "cell_type": "code",
      "execution_count": null,
      "id": "6e282b3e",
      "metadata": {
        "id": "6e282b3e"
      },
      "outputs": [],
      "source": [
        "def neh_algorithm(jobs, n_jobs, n_machines):\n",
        "    # Calculate total processing time for each job\n",
        "    job_times = []\n",
        "    for i, job in enumerate(jobs):\n",
        "        total_time = sum(time for _, time in job)\n",
        "        job_times.append((i, total_time))\n",
        "\n",
        "    # Sort jobs by total processing time (descending)\n",
        "    job_times.sort(key=lambda x: x[1], reverse=True)\n",
        "\n",
        "    # Build sequence incrementally\n",
        "    sequence = [job_times[0][0]]\n",
        "\n",
        "    for i in range(1, n_jobs):\n",
        "        job_idx = job_times[i][0]\n",
        "        best_makespan = float('inf')\n",
        "        best_position = 0\n",
        "\n",
        "        # Try inserting the job at each possible position\n",
        "        for j in range(len(sequence) + 1):\n",
        "            test_sequence = sequence.copy()\n",
        "            test_sequence.insert(j, job_idx)\n",
        "            makespan = calculate_makespan(jobs, test_sequence, n_machines)\n",
        "\n",
        "            if makespan < best_makespan:\n",
        "                best_makespan = makespan\n",
        "                best_position = j\n",
        "\n",
        "        sequence.insert(best_position, job_idx)\n",
        "\n",
        "    makespan = calculate_makespan(jobs, sequence, n_machines)\n",
        "    return sequence, makespan"
      ]
    },
    {
      "cell_type": "markdown",
      "id": "d006cff4",
      "metadata": {
        "id": "d006cff4"
      },
      "source": [
        "Run and evaluate original NEH algorithm as the baseline:"
      ]
    },
    {
      "cell_type": "code",
      "execution_count": null,
      "id": "d47565fdd3559094",
      "metadata": {
        "id": "d47565fdd3559094"
      },
      "outputs": [],
      "source": [
        "def run_base_neh(instances, verbose=False):\n",
        "\n",
        "    res = []\n",
        "\n",
        "    for ins in instances:\n",
        "        with open(ins, 'r') as f:\n",
        "            input_data = f.read()\n",
        "\n",
        "        n_jobs, n_machines, jobs = parse_input(input_data)\n",
        "\n",
        "        if verbose:\n",
        "            print(f\"Problem: {ins} | Jobs: {n_jobs} | Machines: {n_machines}\")\n",
        "\n",
        "        start_time = time.time()\n",
        "        sequence, makespan = neh_algorithm(jobs, n_jobs, n_machines)\n",
        "        end_time = time.time()\n",
        "\n",
        "        execution_time = end_time - start_time\n",
        "\n",
        "        if verbose:\n",
        "            print(f\"  Sequence: {sequence}\")\n",
        "            print(f\"  Makespan: {makespan}\")\n",
        "            print(f\"  Time: {execution_time:.6f} seconds\\n\")\n",
        "\n",
        "        res.append({\n",
        "            'sequence': sequence,\n",
        "            'makespan': makespan,\n",
        "            'time': execution_time\n",
        "        })\n",
        "\n",
        "        # fig = visualize_schedule(jobs, sequence, n_machines, 'NEH')\n",
        "        # plt.show()\n",
        "\n",
        "    return res"
      ]
    },
    {
      "cell_type": "code",
      "execution_count": null,
      "id": "cb493ed1",
      "metadata": {
        "id": "cb493ed1",
        "outputId": "9fa4811d-c874-4533-d9eb-f4f18d34b14e"
      },
      "outputs": [
        {
          "name": "stdout",
          "output_type": "stream",
          "text": [
            "Problem: data/carlier/carlier1.txt | Jobs: 11 | Machines: 5\n",
            "  Sequence: [7, 0, 4, 8, 2, 10, 3, 6, 5, 1, 9]\n",
            "  Makespan: 7038\n",
            "  Time: 0.000925 seconds\n",
            "\n",
            "Problem: data/carlier/carlier2.txt | Jobs: 13 | Machines: 4\n",
            "  Sequence: [6, 10, 2, 12, 3, 4, 0, 1, 8, 7, 11, 5, 9]\n",
            "  Makespan: 7376\n",
            "  Time: 0.001134 seconds\n",
            "\n",
            "Problem: data/heller/heller2.txt | Jobs: 20 | Machines: 10\n",
            "  Sequence: [0, 3, 11, 8, 14, 16, 1, 12, 15, 7, 19, 18, 10, 5, 17, 4, 13, 2, 9, 6]\n",
            "  Makespan: 141\n",
            "  Time: 0.008269 seconds\n",
            "\n",
            "Problem: data/reeves/reeves1.txt | Jobs: 20 | Machines: 5\n",
            "  Sequence: [5, 8, 11, 17, 13, 1, 16, 14, 2, 0, 6, 19, 12, 3, 10, 15, 7, 9, 4, 18]\n",
            "  Makespan: 1303\n",
            "  Time: 0.003960 seconds\n",
            "\n",
            "Problem: data/reeves/reeves2.txt | Jobs: 20 | Machines: 5\n",
            "  Sequence: [13, 18, 4, 0, 3, 1, 8, 7, 11, 12, 6, 2, 16, 15, 9, 5, 10, 17, 14, 19]\n",
            "  Makespan: 1132\n",
            "  Time: 0.004338 seconds\n",
            "\n",
            "Problem: data/reeves/reeves3.txt | Jobs: 20 | Machines: 5\n",
            "  Sequence: [18, 7, 11, 15, 19, 4, 0, 9, 12, 2, 1, 17, 8, 6, 5, 10, 3, 14, 13, 16]\n",
            "  Makespan: 1281\n",
            "  Time: 0.005695 seconds\n",
            "\n"
          ]
        }
      ],
      "source": [
        "_ = run_base_neh(instances, verbose=True)"
      ]
    },
    {
      "cell_type": "markdown",
      "id": "9b49b89abedee41c",
      "metadata": {
        "id": "9b49b89abedee41c"
      },
      "source": [
        "### Google `OR-Tools`"
      ]
    },
    {
      "cell_type": "markdown",
      "id": "3c6e98f762279b6b",
      "metadata": {
        "id": "3c6e98f762279b6b"
      },
      "source": [
        "Import necessary libraries:"
      ]
    },
    {
      "cell_type": "code",
      "execution_count": null,
      "id": "5092ed648058f292",
      "metadata": {
        "id": "5092ed648058f292"
      },
      "outputs": [],
      "source": [
        "import random\n",
        "import matplotlib.pyplot as plt\n",
        "import matplotlib.patches as patches\n",
        "import matplotlib.colors as mcolors\n",
        "import numpy as np\n",
        "\n",
        "from ortools.sat.python import cp_model"
      ]
    },
    {
      "cell_type": "markdown",
      "id": "49d98b25a41f214f",
      "metadata": {
        "id": "49d98b25a41f214f"
      },
      "source": [
        "Define the function to read cases from instances in desired formats:"
      ]
    },
    {
      "cell_type": "code",
      "execution_count": null,
      "id": "b53c426f7ddad71f",
      "metadata": {
        "id": "b53c426f7ddad71f"
      },
      "outputs": [],
      "source": [
        "def read_cases(path):\n",
        "    cases = []\n",
        "    with open(path, 'r') as f:\n",
        "        alldata = f.readlines()\n",
        "        first_line = alldata[0].split()\n",
        "        n_jobs, n_machines = int(first_line[0]), int(first_line[1])\n",
        "\n",
        "        for i in range(1, len(alldata)):\n",
        "            line = alldata[i]\n",
        "            jobs_cases = []\n",
        "            data = line.split()\n",
        "            for d in range(0, len(data), 2):\n",
        "                jobs_cases.append((int(data[d]), int(data[d+1])))\n",
        "            cases.append(jobs_cases)\n",
        "\n",
        "    return (n_jobs, n_machines), cases"
      ]
    },
    {
      "cell_type": "markdown",
      "id": "879cfd6bd088680e",
      "metadata": {
        "id": "879cfd6bd088680e"
      },
      "source": [
        "Define the function for plotting Gantt chart of the result:"
      ]
    },
    {
      "cell_type": "code",
      "execution_count": null,
      "id": "530e83e4e0021da9",
      "metadata": {
        "id": "530e83e4e0021da9"
      },
      "outputs": [],
      "source": [
        "def plot_gantt_chart(result_job_schedule, num_jobs, num_machines,\n",
        "                     title=\"Flow-Shop Gantt Chart\"):\n",
        "    fig, ax = plt.subplots(figsize=(25, 12))\n",
        "\n",
        "    colors = list(mcolors.TABLEAU_COLORS.values())\n",
        "    if num_jobs > len(colors):\n",
        "        random.seed(4487)\n",
        "        colors = []\n",
        "        for _ in range(num_jobs):\n",
        "            colors.append(f'#{random.randint(0, 0xFFFFFF):06x}')\n",
        "\n",
        "    for job_id, machine_id, stime, etime in result_job_schedule:\n",
        "        duration = etime - stime\n",
        "        rect = patches.Rectangle(\n",
        "            (stime, num_machines - machine_id - 1),\n",
        "            duration,\n",
        "            0.8,\n",
        "            linewidth=1,\n",
        "            edgecolor='black',\n",
        "            facecolor=colors[job_id],\n",
        "            alpha=0.6,\n",
        "            label=f'Job-{job_id}' if machine_id == 0 else ''\n",
        "        )\n",
        "        ax.add_patch(rect)\n",
        "\n",
        "        rx, ry = rect.get_xy()\n",
        "        ax.text(\n",
        "            rx + duration / 2,\n",
        "            ry + 0.4,\n",
        "            f'J{job_id}',\n",
        "            ha='center',\n",
        "            va='center',\n",
        "            color='black',\n",
        "            fontweight='light'\n",
        "        )\n",
        "\n",
        "    ax.set_xlim(0, max([endtime for _, _, _, endtime in result_job_schedule]) + 1)\n",
        "    ax.set_ylim(0, num_machines)\n",
        "\n",
        "    ax.set_yticks(np.arange(num_machines) + 0.4)\n",
        "    ax.set_yticklabels([f'Machine {num_machines - i - 1}' for i in range(num_machines)])\n",
        "\n",
        "    ax.grid(True, axis='x', linestyle='--', alpha=0.5)\n",
        "\n",
        "    handles = [patches.Patch(color=colors[i], label=f'Job {i}') for i in range(num_jobs)]\n",
        "    ax.legend(handles=handles, loc='upper right', ncol=min(5, num_jobs))\n",
        "\n",
        "    ax.set_title(title)\n",
        "    ax.set_xlabel('Time')\n",
        "    ax.set_ylabel('Machines')\n",
        "\n",
        "    plt.tight_layout()\n",
        "    plt.show()"
      ]
    },
    {
      "cell_type": "markdown",
      "id": "4aebdd3a7e3355d",
      "metadata": {
        "id": "4aebdd3a7e3355d"
      },
      "source": [
        "Define the main process of problem solving:\n",
        "\n",
        "> **Note**: Due to the long execution time of OR-Tools with the basic implementation, we added time limit of 90 seconds to the solving process."
      ]
    },
    {
      "cell_type": "code",
      "execution_count": null,
      "id": "05c22068",
      "metadata": {
        "id": "05c22068"
      },
      "outputs": [],
      "source": [
        "from func_timeout import func_set_timeout, FunctionTimedOut"
      ]
    },
    {
      "cell_type": "code",
      "execution_count": null,
      "id": "2d9951b423873df2",
      "metadata": {
        "id": "2d9951b423873df2"
      },
      "outputs": [],
      "source": [
        "@func_set_timeout(90)  # set 90 seconds time limit\n",
        "def solve_flowshop(num_jobs, num_machines, jobs_data):\n",
        "\n",
        "    model = cp_model.CpModel()\n",
        "\n",
        "    \"\"\"Create interval variables\"\"\"\n",
        "    intervals = {}\n",
        "    for job_id in range(num_jobs):\n",
        "        for task_id, (machine_id, duration) in enumerate(jobs_data[job_id]):\n",
        "            # a job is consisted of multiple tasks\n",
        "\n",
        "            unique_id = f'{job_id}-{machine_id}-{task_id}'\n",
        "            start = model.NewIntVar(0, 10000, f's-{unique_id}')\n",
        "            end = model.NewIntVar(0, 10000, f'e-{unique_id}')\n",
        "            interval = model.NewIntervalVar(start, duration, end, f'interval-{unique_id}')\n",
        "\n",
        "            # uniquely identified by job ID and machine ID\n",
        "            # since a task can only be executed on a machine\n",
        "            intervals[(job_id, machine_id)] = (start, end, interval)\n",
        "\n",
        "\n",
        "    \"\"\"Add constraints on the order\"\"\"\n",
        "    for job_id in range(num_jobs):\n",
        "        for task_id in range(1, num_machines):\n",
        "            # (task number = machine number) in flow-shop\n",
        "\n",
        "            prev_task_machine = jobs_data[job_id][task_id - 1][0]\n",
        "            cur_task_machine = jobs_data[job_id][task_id][0]\n",
        "\n",
        "            # start time of current task must be larger than the end time of previous task\n",
        "            model.Add(intervals[(job_id, cur_task_machine)][0]\n",
        "                      >= intervals[(job_id, prev_task_machine)][1])\n",
        "\n",
        "\n",
        "    \"\"\"Add constraints on the machine conflicts\"\"\"\n",
        "    for machine_id in range(num_machines):\n",
        "        machine_intervals = [\n",
        "            intervals[(job_id, machine_id)][2]\n",
        "            for job_id in range(num_jobs)\n",
        "        ]\n",
        "        model.AddNoOverlap(machine_intervals)\n",
        "\n",
        "\n",
        "    \"\"\"Setting Objects\"\"\"\n",
        "    case_object = model.NewIntVar(0, 10000, 'makespan')\n",
        "    model.AddMaxEquality(case_object, [\n",
        "        intervals[(job_id, num_machines-1)][1]\n",
        "        for job_id in range(num_jobs)\n",
        "    ])\n",
        "    model.Minimize(case_object)\n",
        "\n",
        "\n",
        "    \"\"\"Solving\"\"\"\n",
        "    solver = cp_model.CpSolver()\n",
        "    stat = solver.Solve(model)\n",
        "\n",
        "\n",
        "    \"\"\"Results\"\"\"\n",
        "\n",
        "    final_makespan = None\n",
        "\n",
        "    result_schedule = []\n",
        "    if stat == cp_model.OPTIMAL:\n",
        "        # exists optimal solution\n",
        "        final_makespan = solver.ObjectiveValue()\n",
        "        for job_id in range(num_jobs):\n",
        "            for machine_id in range(num_machines):\n",
        "                start = solver.Value(intervals[(job_id, machine_id)][0])\n",
        "                duration = jobs_data[job_id][machine_id][1]\n",
        "                end = start + duration\n",
        "                # print(f'Task-{machine_id} of Job-{job_id} is scheduled on Machine-{machine_id}: {start} ~ {end}')\n",
        "                result_schedule.append((job_id, machine_id, start, end))\n",
        "    else:\n",
        "        # No optimal solution\n",
        "        print('No solution found')\n",
        "\n",
        "    return result_schedule, final_makespan\n"
      ]
    },
    {
      "cell_type": "code",
      "execution_count": null,
      "id": "ea0f7a580594556d",
      "metadata": {
        "id": "ea0f7a580594556d"
      },
      "outputs": [],
      "source": [
        "def run_or_tools(instances, verbose=False):\n",
        "\n",
        "    res = []\n",
        "\n",
        "    for ins in instances:\n",
        "        (n_jobs, n_machines), jobs_data = read_cases(ins)\n",
        "\n",
        "        if verbose:\n",
        "            print(f\"Problem: {ins} | Jobs: {n_jobs} | Machine: {n_machines}\")\n",
        "\n",
        "        try:\n",
        "            start = time.time()\n",
        "            result_schedule, makespan = solve_flowshop(n_jobs, n_machines, jobs_data)\n",
        "            time_spent = time.time() - start\n",
        "        except FunctionTimedOut:\n",
        "            print(\"[Warning]: OR-Tools' execution has reached 90 seconds timelimit!\")\n",
        "            result_schedule = None\n",
        "            sequence = []\n",
        "            makespan = 0\n",
        "            time_spent = 90\n",
        "\n",
        "        if result_schedule is not None:\n",
        "            machine_0_ops = [entry for entry in result_schedule if entry[1] == 0]\n",
        "            machine_0_ops.sort(key=lambda x: x[2])\n",
        "            sequence = [entry[0] for entry in machine_0_ops]\n",
        "\n",
        "        if verbose:\n",
        "            print(f\"Sequence: {sequence}\")\n",
        "            print(f\"Makespan: {makespan}\")\n",
        "            print(f\"Time: {time_spent}\\n\")\n",
        "\n",
        "        res.append({\n",
        "            'sequence': sequence,\n",
        "            'makespan': makespan,\n",
        "            'time': time_spent\n",
        "        })\n",
        "\n",
        "        # plot_gantt_chart(result_schedule, n_jobs, n_machines, f'Result of case: {case_set_name}-{case_no}')\n",
        "\n",
        "    return res"
      ]
    },
    {
      "cell_type": "code",
      "execution_count": null,
      "id": "f12cc250",
      "metadata": {
        "id": "f12cc250",
        "outputId": "a12c0e61-193f-4a7a-a48f-0cb4472a7bba"
      },
      "outputs": [
        {
          "name": "stdout",
          "output_type": "stream",
          "text": [
            "Problem: data/carlier/carlier1.txt | Jobs: 11 | Machine: 5\n",
            "Sequence: [7, 2, 10, 4, 8, 9, 5, 6, 0, 3, 1]\n",
            "Makespan: 7038.0\n",
            "Time: 0.06839299201965332\n",
            "\n",
            "Problem: data/carlier/carlier2.txt | Jobs: 13 | Machine: 4\n",
            "Sequence: [6, 2, 3, 10, 1, 7, 11, 4, 0, 8, 9, 5, 12]\n",
            "Makespan: 7166.0\n",
            "Time: 0.059268951416015625\n",
            "\n",
            "Problem: data/heller/heller2.txt | Jobs: 20 | Machine: 10\n",
            "[Warning]: OR-Tools' execution has reached 90 seconds timelimit!\n",
            "Sequence: []\n",
            "Makespan: 0\n",
            "Time: 90\n",
            "\n",
            "Problem: data/reeves/reeves1.txt | Jobs: 20 | Machine: 5\n",
            "Sequence: [5, 8, 0, 16, 13, 1, 17, 3, 11, 12, 14, 2, 19, 10, 4, 6, 9, 7, 18, 15]\n",
            "Makespan: 1245.0\n",
            "Time: 9.672859191894531\n",
            "\n",
            "Problem: data/reeves/reeves2.txt | Jobs: 20 | Machine: 5\n",
            "Sequence: [13, 5, 0, 1, 6, 7, 16, 15, 4, 18, 2, 3, 10, 9, 14, 17, 11, 12, 8, 19]\n",
            "Makespan: 1093.0\n",
            "Time: 1.4731948375701904\n",
            "\n",
            "Problem: data/reeves/reeves3.txt | Jobs: 20 | Machine: 5\n",
            "Sequence: [4, 11, 2, 17, 8, 10, 5, 12, 9, 3, 7, 15, 19, 1, 18, 14, 0, 13, 16, 6]\n",
            "Makespan: 1228.0\n",
            "Time: 0.9739840030670166\n",
            "\n"
          ]
        }
      ],
      "source": [
        "_ = run_or_tools(instances, verbose=True)"
      ]
    },
    {
      "cell_type": "markdown",
      "id": "5e1763bf6debef67",
      "metadata": {
        "id": "5e1763bf6debef67"
      },
      "source": [
        "### Naïve Application on FunSearch"
      ]
    },
    {
      "cell_type": "code",
      "execution_count": null,
      "id": "96e57061",
      "metadata": {
        "colab": {
          "base_uri": "https://localhost:8080/"
        },
        "id": "96e57061",
        "outputId": "a094bc99-7069-4924-fedf-c98ab5e950b1"
      },
      "outputs": [
        {
          "output_type": "stream",
          "name": "stdout",
          "text": [
            "/content/Flowshop-FunSearch/evolved_func_test\n"
          ]
        }
      ],
      "source": [
        "%cd /content/Flowshop-FunSearch/evolved_func_test\n",
        "from utils import *"
      ]
    },
    {
      "cell_type": "markdown",
      "id": "c98e1969",
      "metadata": {
        "id": "c98e1969"
      },
      "source": [
        "This is the evolved NEH function using the naive application on FunSearch:"
      ]
    },
    {
      "cell_type": "code",
      "execution_count": null,
      "id": "initial_id",
      "metadata": {
        "collapsed": true,
        "id": "initial_id"
      },
      "outputs": [],
      "source": [
        "def evolved_neh(processing_times: np.ndarray) -> list[int]:\n",
        "    \"\"\"\n",
        "    An enhanced initial heuristic for the Permutation Flowshop Scheduling Problem (PFSP).\n",
        "\n",
        "    This heuristic combines:\n",
        "    - A weighted scoring for each job based on its total processing time and its maximum processing time.\n",
        "      The weight parameter alpha balances these two criteria.\n",
        "    - An iterative insertion procedure that builds an initial sequence.\n",
        "    - A subsequent local search using pairwise swap improvements to further reduce the makespan.\n",
        "\n",
        "    The resulting schedule (a list of job indices) is returned.\n",
        "    \"\"\"\n",
        "    \"\"\"\n",
        "    An improved heuristic for the Permutation Flowshop Scheduling Problem (PFSP) that minimizes makespan\n",
        "    by using a modified job ordering and insertion strategy.\n",
        "\n",
        "    The heuristic performs the following steps:\n",
        "    - Orders jobs based on their maximum processing time across all machines.\n",
        "    - Builds an initial sequence using a modified greedy insertion strategy.\n",
        "    - Applies a local search with pairwise swaps to optimize the sequence further.\n",
        "\n",
        "    The resulting schedule (a list of job indices) is returned.\n",
        "    \"\"\"\n",
        "    num_jobs, num_machines = processing_times.shape\n",
        "\n",
        "    # Step 1: Order jobs based on their maximum processing time across all machines\n",
        "    job_indices = np.arange(num_jobs)\n",
        "    job_order = job_indices[np.argsort(-processing_times.max(axis=1))].tolist()\n",
        "\n",
        "    # Step 2: Build an initial sequence using a modified greedy insertion strategy\n",
        "    sequence = []\n",
        "    for job in job_order:\n",
        "        best_position = 0\n",
        "        best_makespan = float('inf')\n",
        "\n",
        "        # Try inserting the job in every possible position\n",
        "        for pos in range(len(sequence) + 1):\n",
        "            candidate_seq = sequence[:pos] + [job] + sequence[pos:]\n",
        "            ms = calc_makespan(candidate_seq, processing_times)\n",
        "            if ms < best_makespan:\n",
        "                best_makespan = ms\n",
        "                best_position = pos\n",
        "\n",
        "        # Insert the job at the best position found\n",
        "        sequence.insert(best_position, job)\n",
        "\n",
        "    # Step 3: Local search: try pairwise swaps to further improve the sequence\n",
        "    improvement = True\n",
        "    while improvement:\n",
        "        improvement = False\n",
        "        current_makespan = calc_makespan(sequence, processing_times)\n",
        "\n",
        "        for i in range(num_jobs - 1):\n",
        "            for j in range(i + 1, num_jobs):\n",
        "                new_seq = sequence.copy()\n",
        "                new_seq[i], new_seq[j] = new_seq[j], new_seq[i]\n",
        "                new_makespan = calc_makespan(new_seq, processing_times)\n",
        "\n",
        "                if new_makespan < current_makespan:\n",
        "                    sequence = new_seq\n",
        "                    current_makespan = new_makespan\n",
        "                    improvement = True\n",
        "                    # Break out to restart the search after any improvement\n",
        "                    break\n",
        "            if improvement:\n",
        "                break\n",
        "\n",
        "    return sequence"
      ]
    },
    {
      "cell_type": "markdown",
      "id": "40e43e2d",
      "metadata": {
        "id": "40e43e2d"
      },
      "source": [
        "Evaluation:"
      ]
    },
    {
      "cell_type": "code",
      "execution_count": null,
      "id": "99f5bd74",
      "metadata": {
        "id": "99f5bd74"
      },
      "outputs": [],
      "source": [
        "def run_base_funsearch(instances, verbose=False):\n",
        "\n",
        "    res = []\n",
        "\n",
        "    for ins in instances:\n",
        "        directory = '/'.join(ins.split('/')[:-1])\n",
        "        filename = ins.split('/')[-1]\n",
        "        fs_data = load_datasets(directory)[filename]\n",
        "        fs_data = np.array(fs_data)\n",
        "\n",
        "        num_jobs, num_machines = fs_data.shape\n",
        "\n",
        "        if verbose:\n",
        "            print(f\"Problem: {ins} | Jobs: {num_jobs} | Machines: {num_machines}\")\n",
        "\n",
        "        start_time = time.time()\n",
        "        schedule = evolved_neh(fs_data)\n",
        "        time_spent = time.time() - start_time\n",
        "\n",
        "        final_makespan = calc_makespan(schedule, fs_data)\n",
        "\n",
        "        if verbose:\n",
        "            print(f\"Sequence: {schedule}\")\n",
        "            print(f\"Makespan: {final_makespan}\")\n",
        "            print(f\"Time: {time_spent}\\n\")\n",
        "\n",
        "        res.append({\n",
        "            'sequence': schedule,\n",
        "            'makespan': final_makespan,\n",
        "            'time': time_spent\n",
        "        })\n",
        "\n",
        "        # plot_gantt_chart(schedule, fs_data)\n",
        "\n",
        "    return res"
      ]
    },
    {
      "cell_type": "code",
      "execution_count": null,
      "id": "9d3bc669",
      "metadata": {
        "id": "9d3bc669",
        "outputId": "50c60736-e799-4272-aa4a-8c2f6d9802eb"
      },
      "outputs": [
        {
          "name": "stdout",
          "output_type": "stream",
          "text": [
            "Problem: data/carlier/carlier1.txt | Jobs: 11 | Machines: 5\n",
            "Sequence: [7, 0, 4, 2, 10, 3, 5, 6, 8, 1, 9]\n",
            "Makespan: 7038.0\n",
            "Time: 0.0039098262786865234\n",
            "\n",
            "Problem: data/carlier/carlier2.txt | Jobs: 13 | Machines: 4\n",
            "Sequence: [6, 10, 12, 2, 3, 4, 0, 1, 8, 7, 11, 9, 5]\n",
            "Makespan: 7376.0\n",
            "Time: 0.0029981136322021484\n",
            "\n",
            "Problem: data/heller/heller2.txt | Jobs: 20 | Machines: 10\n",
            "Sequence: [0, 13, 12, 3, 8, 19, 7, 17, 16, 15, 2, 5, 11, 18, 14, 9, 1, 6, 10, 4]\n",
            "Makespan: 139.0\n",
            "Time: 0.04487276077270508\n",
            "\n",
            "Problem: data/reeves/reeves1.txt | Jobs: 20 | Machines: 5\n",
            "Sequence: [5, 8, 16, 11, 19, 1, 14, 12, 13, 3, 0, 6, 10, 17, 7, 9, 4, 2, 18, 15]\n",
            "Makespan: 1257.0\n",
            "Time: 0.06741619110107422\n",
            "\n",
            "Problem: data/reeves/reeves2.txt | Jobs: 20 | Machines: 5\n",
            "Sequence: [13, 6, 10, 1, 18, 8, 3, 12, 4, 7, 5, 2, 0, 15, 9, 16, 11, 17, 14, 19]\n",
            "Makespan: 1117.0\n",
            "Time: 0.01939868927001953\n",
            "\n",
            "Problem: data/reeves/reeves3.txt | Jobs: 20 | Machines: 5\n",
            "Sequence: [18, 11, 2, 7, 9, 4, 1, 19, 10, 8, 5, 6, 17, 13, 16, 14, 3, 12, 0, 15]\n",
            "Makespan: 1271.0\n",
            "Time: 0.022988080978393555\n",
            "\n"
          ]
        }
      ],
      "source": [
        "_ = run_base_funsearch(instances, verbose=True)"
      ]
    },
    {
      "cell_type": "markdown",
      "id": "f18b2dae9c8ce707",
      "metadata": {
        "id": "f18b2dae9c8ce707"
      },
      "source": [
        "## New Approaches"
      ]
    },
    {
      "cell_type": "markdown",
      "id": "26bd4c0dba4b1330",
      "metadata": {
        "id": "26bd4c0dba4b1330"
      },
      "source": [
        "### Prompt Engineering"
      ]
    },
    {
      "cell_type": "code",
      "execution_count": null,
      "id": "e182ff21",
      "metadata": {
        "id": "e182ff21"
      },
      "outputs": [],
      "source": [
        "import sys"
      ]
    },
    {
      "cell_type": "code",
      "execution_count": null,
      "id": "126dd369",
      "metadata": {
        "id": "126dd369"
      },
      "outputs": [],
      "source": [
        "def compute_makespan(schedule: list[int], processing_times: np.ndarray) -> int:\n",
        "    \"\"\"\n",
        "    Compute the makespan (total completion time) for a given job schedule in a PFSP.\n",
        "    - schedule: list of job indices in the order they are processed.\n",
        "    - processing_times: 2D numpy array of shape (num_jobs, num_machines) with processing times for each job on each machine.\n",
        "    Returns the makespan (int) for the given order.\n",
        "    \"\"\"\n",
        "    num_jobs = len(schedule)\n",
        "    num_machines = processing_times.shape[1]\n",
        "    if num_jobs == 0:\n",
        "        return 0\n",
        "\n",
        "    completion_times = np.zeros((num_jobs, num_machines), dtype=int)\n",
        "    first_job = schedule[0]\n",
        "    completion_times[0, 0] = processing_times[first_job, 0]\n",
        "    for m in range(1, num_machines):\n",
        "        completion_times[0, m] = completion_times[0, m - 1] + processing_times[first_job, m]\n",
        "\n",
        "    for i in range(1, num_jobs):\n",
        "        job = schedule[i]\n",
        "        completion_times[i, 0] = completion_times[i - 1, 0] + processing_times[job, 0]\n",
        "        for m in range(1, num_machines):\n",
        "            completion_times[i, m] = max(completion_times[i, m - 1], completion_times[i - 1, m]) + processing_times[\n",
        "                job, m]\n",
        "\n",
        "    return int(completion_times[-1, -1])"
      ]
    },
    {
      "cell_type": "markdown",
      "id": "362e31b8",
      "metadata": {
        "id": "362e31b8"
      },
      "source": [
        "This is the skeleton provided to be improved.\n",
        "- The *average makespan* applied to training set is 4299.45 ."
      ]
    },
    {
      "cell_type": "code",
      "execution_count": null,
      "id": "66362ff1",
      "metadata": {
        "id": "66362ff1"
      },
      "outputs": [],
      "source": [
        "def neh_heuristic(processing_times: np.ndarray) -> list[int]:\n",
        "    \"\"\"\n",
        "    An enhanced initial heuristic for the Permutation Flowshop Scheduling Problem (PFSP).\n",
        "\n",
        "    This heuristic combines:\n",
        "    - A weighted scoring for each job based on its total processing time and its maximum processing time.\n",
        "      The weight parameter alpha balances these two criteria.\n",
        "    - An iterative insertion procedure that builds an initial sequence.\n",
        "    - A subsequent local search using pairwise swap improvements to further reduce the makespan.\n",
        "\n",
        "    The resulting schedule (a list of job indices) is returned.\n",
        "    \"\"\"\n",
        "    num_jobs, num_machines = processing_times.shape\n",
        "    alpha = 0.7  # Weight parameter: can be tuned/evolved (alpha in [0, 1])\n",
        "\n",
        "    # Compute a weighted score for each job.\n",
        "    # Lower score indicates a job should be scheduled earlier.\n",
        "    job_scores = []\n",
        "    for job in range(num_jobs):\n",
        "        total_time = processing_times[job].sum()\n",
        "        max_time = processing_times[job].max()\n",
        "        score = alpha * total_time + (1 - alpha) * max_time\n",
        "        job_scores.append((job, score))\n",
        "\n",
        "    # Sort jobs by ascending score (best candidate first)\n",
        "    job_scores.sort(key=lambda x: x[1])\n",
        "\n",
        "    # Build an initial sequence using iterative insertion\n",
        "    sequence = [job_scores[0][0]]\n",
        "    for job, _ in job_scores[1:]:\n",
        "        best_sequence = None\n",
        "        best_makespan = float('inf')\n",
        "        # Try inserting the job in every possible position\n",
        "        for pos in range(len(sequence) + 1):\n",
        "            candidate_seq = sequence[:pos] + [job] + sequence[pos:]\n",
        "            ms = compute_makespan(candidate_seq, processing_times)\n",
        "            if ms < best_makespan:\n",
        "                best_makespan = ms\n",
        "                best_sequence = candidate_seq\n",
        "        sequence = best_sequence\n",
        "\n",
        "    # Local search: try pairwise swaps to further improve the sequence\n",
        "    improvement = True\n",
        "    while improvement:\n",
        "        improvement = False\n",
        "        current_makespan = compute_makespan(sequence, processing_times)\n",
        "        for i in range(num_jobs - 1):\n",
        "            for j in range(i + 1, num_jobs):\n",
        "                new_seq = sequence.copy()\n",
        "                new_seq[i], new_seq[j] = new_seq[j], new_seq[i]\n",
        "                new_makespan = compute_makespan(new_seq, processing_times)\n",
        "                if new_makespan < current_makespan:\n",
        "                    sequence = new_seq\n",
        "                    current_makespan = new_makespan\n",
        "                    improvement = True\n",
        "                    # Break out to restart the search after any improvement\n",
        "                    break\n",
        "            if improvement:\n",
        "                break\n",
        "\n",
        "    return sequence"
      ]
    },
    {
      "cell_type": "code",
      "execution_count": null,
      "id": "fd23436a",
      "metadata": {
        "id": "fd23436a"
      },
      "outputs": [],
      "source": [
        "# for ins in instances:\n",
        "#     directory = '/'.join(ins.split('/')[:-1])\n",
        "#     filename = ins.split('/')[-1]\n",
        "#     fs_data = load_datasets(directory)[filename]\n",
        "#     fs_data = np.array(fs_data)\n",
        "\n",
        "#     num_jobs, num_machines = fs_data.shape\n",
        "\n",
        "#     print(f\"\\nProblem: {ins} | Jobs: {num_jobs} | Machines: {num_machines}\")\n",
        "\n",
        "#     # Evaluate each variant\n",
        "#     for variant in neh_variants:\n",
        "#         variant_name = variant.__name__\n",
        "#         print(f\"\\nEvaluating {variant_name}:\")\n",
        "\n",
        "#         start_time = time.time()\n",
        "#         schedule = variant(fs_data)\n",
        "#         time_spent = time.time() - start_time\n",
        "\n",
        "#         final_makespan = calc_makespan(schedule, fs_data)\n",
        "\n",
        "#         print(f\"Sequence: {schedule}\")\n",
        "#         print(f\"Makespan: {final_makespan}\")\n",
        "#         print(f\"Time: {time_spent}\")"
      ]
    },
    {
      "cell_type": "markdown",
      "id": "c91349ac",
      "metadata": {
        "id": "c91349ac"
      },
      "source": [
        "When using base prompt with only goal:  \n",
        "\n",
        "        \"Improve the scheduling heuristic to minimize makespan. \"  \n",
        "        \"Only generate neh_heuristic(processing_times: np.ndarray) function.\"  \n",
        "        \"Only output the Python code, no descriptions.\"\n",
        "    \n",
        "     \n",
        "- There is no changed applied to the neh_heuristic function."
      ]
    },
    {
      "cell_type": "markdown",
      "id": "d2c57d2a",
      "metadata": {
        "id": "d2c57d2a"
      },
      "source": [
        "This is the evolved NEH function using base prompt with little tips:  \n",
        "\n",
        "        \"Complete a different and more complex Python function.\"  \n",
        "        \"Be creative and you can insert multiple if-else and for-loop in the code logic.\"  \n",
        "        \"Only output the Python code, no descriptions.\"\n",
        "\n",
        "- The *average makespan* applied to training set is 4290.64 ."
      ]
    },
    {
      "cell_type": "code",
      "execution_count": null,
      "id": "06a89320",
      "metadata": {
        "id": "06a89320"
      },
      "outputs": [],
      "source": [
        "def neh_heuristic_base(processing_times: np.ndarray) -> list[int]:\n",
        "    num_jobs, num_machines = processing_times.shape\n",
        "    alpha = 0.7  # Weight parameter\n",
        "\n",
        "    job_scores = []\n",
        "    for job in range(num_jobs):\n",
        "        total_time = processing_times[job].sum()\n",
        "        max_time = processing_times[job].max()\n",
        "        score = alpha * total_time + (1 - alpha) * max_time\n",
        "        job_scores.append((job, score))\n",
        "\n",
        "    job_scores.sort(key=lambda x: x[1])\n",
        "\n",
        "    sequence = [job_scores[0][0]]\n",
        "    for job, _ in job_scores[1:]:\n",
        "        best_sequence = None\n",
        "        best_makespan = float('inf')\n",
        "        for pos in range(len(sequence) + 1):\n",
        "            candidate_seq = sequence[:pos] + [job] + sequence[pos:]\n",
        "            ms = compute_makespan(candidate_seq, processing_times)\n",
        "            if ms < best_makespan:\n",
        "                best_makespan = ms\n",
        "                best_sequence = candidate_seq\n",
        "        sequence = best_sequence\n",
        "\n",
        "    improvement = True\n",
        "    while improvement:\n",
        "        improvement = False\n",
        "        current_makespan = compute_makespan(sequence, processing_times)\n",
        "        for i in range(num_jobs - 1):\n",
        "            for j in range(i + 1, num_jobs):\n",
        "                new_seq = sequence.copy()\n",
        "                new_seq[i], new_seq[j] = new_seq[j], new_seq[i]\n",
        "                new_makespan = compute_makespan(new_seq, processing_times)\n",
        "                if new_makespan < current_makespan:\n",
        "                    sequence = new_seq\n",
        "                    current_makespan = new_makespan\n",
        "                    improvement = True\n",
        "                    break\n",
        "            if improvement:\n",
        "                break\n",
        "\n",
        "    # Additional logic for further improvement\n",
        "    for i in range(num_jobs):\n",
        "        for j in range(i + 1, num_jobs):\n",
        "            for k in range(j + 1, num_jobs):\n",
        "                temp_seq = sequence.copy()\n",
        "                temp_seq[i], temp_seq[j], temp_seq[k] = temp_seq[j], temp_seq[k], temp_seq[i]\n",
        "                temp_makespan = compute_makespan(temp_seq, processing_times)\n",
        "                if temp_makespan < current_makespan:\n",
        "                    sequence = temp_seq\n",
        "                    current_makespan = temp_makespan\n",
        "\n",
        "    return sequence"
      ]
    },
    {
      "cell_type": "markdown",
      "id": "a2d608b8",
      "metadata": {
        "id": "a2d608b8"
      },
      "source": [
        "This is the evolved NEH function using Instructive prompt with Open-ended:  \n",
        "\n",
        "        \"Improve the scheduling heuristic to minimize makespan.\"  \n",
        "        \"You can change how jobs are ordered or inserted,\"\n",
        "        \"Be creative. Think beyond NEH logic.\"\n",
        "        \"Please only generate neh_heuristic(processing_times: np.ndarray) function\"  \n",
        "        \"Use loops, conditionals, or clustering ideas. Only return valid Python code.\"  \n",
        "        \"Improve the scheduling heuristic to minimize makespan.\"\n",
        "        \"You can change how jobs are ordered or inserted,\"\n",
        "        \"Be creative. Think beyond NEH logic.\"\n",
        "        \"Please only generate neh_heuristic(processing_times: np.ndarray) function\"\n",
        "        \"Use loops, conditionals, or clustering ideas. Only return valid Python code.\"\n",
        "\n",
        "- The *average makespan* applied to training set is 4274.909 ."
      ]
    },
    {
      "cell_type": "code",
      "execution_count": null,
      "id": "9c0a8e20",
      "metadata": {
        "id": "9c0a8e20"
      },
      "outputs": [],
      "source": [
        "def neh_heuristic_intruct_Open_ended(processing_times: np.ndarray) -> list[int]:\n",
        "    num_jobs, num_machines = processing_times.shape\n",
        "\n",
        "    # Calculate a score for each job based on the total processing time across machines\n",
        "    job_scores = [(job, sum(processing_times[job])) for job in range(num_jobs)]\n",
        "\n",
        "    # Sort jobs in descending order of scores\n",
        "    job_scores.sort(key=lambda x: x[1], reverse=True)\n",
        "\n",
        "    # Initialize the sequence with the job of highest score\n",
        "    sequence = [job_scores[0][0]]\n",
        "\n",
        "    # Iterate through remaining jobs based on their score and insert at the position that minimizes makespan\n",
        "    for job, _ in job_scores[1:]:\n",
        "        best_position = 0\n",
        "        best_makespan = float('inf')\n",
        "        for pos in range(len(sequence) + 1):\n",
        "            candidate_seq = sequence[:pos] + [job] + sequence[pos:]\n",
        "            ms = compute_makespan(candidate_seq, processing_times)\n",
        "            if ms < best_makespan:\n",
        "                best_makespan = ms\n",
        "                best_position = pos\n",
        "        sequence = sequence[:best_position] + [job] + sequence[best_position:]\n",
        "\n",
        "    # Local search: use pairwise swaps to further improve the sequence\n",
        "    improvement = True\n",
        "    while improvement:\n",
        "        improvement = False\n",
        "        current_makespan = compute_makespan(sequence, processing_times)\n",
        "        for i in range(num_jobs - 1):\n",
        "            for j in range(i + 1, num_jobs):\n",
        "                new_seq = sequence.copy()\n",
        "                new_seq[i], new_seq[j] = new_seq[j], new_seq[i]\n",
        "                new_makespan = compute_makespan(new_seq, processing_times)\n",
        "                if new_makespan < current_makespan:\n",
        "                    sequence = new_seq\n",
        "                    current_makespan = new_makespan\n",
        "                    improvement = True\n",
        "                    break\n",
        "\n",
        "    return sequence\n"
      ]
    },
    {
      "cell_type": "markdown",
      "id": "0136bfd8",
      "metadata": {
        "id": "0136bfd8"
      },
      "source": [
        "This is the evolved NEH function using Instructive prompt with Orientation:  \n",
        "\n",
        "      \"\"\"Improve the NEH heuristic for PFSP to minimize makespan. Focus on:\"\n",
        "          1. **Scoring Strategy**: Modify how jobs are prioritized (e.g., dynamic alpha, machine load balancing).\n",
        "          2. **Insertion Logic**: Optimize the position selection during insertion (e.g., early termination if no improvement).\n",
        "          3. **Local Search**: Replace the swap-based search with more efficient methods (e.g., 3-opt, tabu search).\n",
        "          4. **Constraints**:\n",
        "            - Preserve job uniqueness (no duplicates).\n",
        "            - Only use `compute_makespan` for evaluation.\n",
        "            - Return a list of job indices (e.g., [0, 2, 1]).\n",
        "          Generate *only* the `neh_heuristic` function body (no duplicate code from skeleton).\n",
        "           Only return python code.\n",
        "      \"\"\"\n",
        "\n",
        "- The *average makespan* applied to training set is 4298.182 ."
      ]
    },
    {
      "cell_type": "code",
      "execution_count": null,
      "id": "dd74fe0d",
      "metadata": {
        "id": "dd74fe0d"
      },
      "outputs": [],
      "source": [
        "def neh_heuristic_intruct_Orientation(processing_times: np.ndarray) -> list[int]:\n",
        "    num_jobs, num_machines = processing_times.shape\n",
        "    alpha = 0.7  # Weight parameter: can be tuned/evolved (alpha in [0, 1])\n",
        "\n",
        "    # Step 1: Implement a more sophisticated scoring strategy (e.g., dynamic alpha, machine load balancing)\n",
        "    job_order = sorted(range(num_jobs), key=lambda x: np.max(processing_times[x]) - alpha * np.sum(processing_times[x]))\n",
        "\n",
        "    # Step 2: Optimize the insertion logic to improve position selection during insertion\n",
        "    schedule = []\n",
        "    for job in job_order:\n",
        "        best_position = 0\n",
        "        best_makespan = compute_makespan(schedule[:best_position] + [job] + schedule[best_position:], processing_times)\n",
        "        for pos in range(1, len(schedule) + 1):\n",
        "            new_makespan = compute_makespan(schedule[:pos] + [job] + schedule[pos:], processing_times)\n",
        "            if new_makespan < best_makespan:\n",
        "                best_position = pos\n",
        "                best_makespan = new_makespan\n",
        "        schedule.insert(best_position, job)\n",
        "\n",
        "    # Step 3: Implement a more efficient local search method (e.g., 3-opt, tabu search) to further improve makespan\n",
        "\n",
        "    return schedule"
      ]
    },
    {
      "cell_type": "markdown",
      "id": "5db43113",
      "metadata": {
        "id": "5db43113"
      },
      "source": [
        "This is the evolved NEH function using rag-type prompt with reverse engineering:  \n",
        "  \n",
        "        You are designing a scheduling heuristic for the Permutation Flowshop Scheduling Problem (PFSP) to minimize makespan.\n",
        "        To assist you, here is background knowledge about a powerful heuristic known as **NEH** (Nawaz–Enscore–Ham):\n",
        "        ----------------------------\n",
        "        [NEH Algorithm Knowledge Base]\n",
        "        1. **NEH Core Idea**:\n",
        "        - For each job, compute its total processing time across all machines.\n",
        "        - Sort jobs in descending order of total processing time.\n",
        "        - Build the schedule iteratively by inserting each job into the current partial sequence at the position that minimizes makespan.\n",
        "        2. **Example**:\n",
        "        - If sorted job order is [2, 0, 1], we start with [2], then try inserting job 0 into all positions: [0,2], [2,0], and pick the one with the smallest makespan.\n",
        "        - Repeat for job 1, trying all positions in the current sequence.\n",
        "        3. **Possible Enhancements**:\n",
        "        - Replace total processing time with weighted score (e.g., max(machine-wise time), early-machine dominance).\n",
        "        - Prune insertion positions that are unlikely to improve makespan.\n",
        "        - Use a local search after initial construction (e.g., 2-opt, job reordering).\n",
        "        ----------------------------\n",
        "        Now, imagine you are analyzing a **highly optimized black-box scheduler** whose logic is unknown.\n",
        "        Your task is to **reverse-engineer its internal heuristic**, assuming it is based on some modification of NEH.\n",
        "        Reconstruct the likely job scoring strategy, insertion policy, and local refinement steps it may be using.\n",
        "        **Constraints**:\n",
        "        - Use `compute_makespan(schedule, processing_times)` for evaluation only.\n",
        "        - Ensure schedule is a valid permutation (no job repetition).\n",
        "        - Only output the body of `neh_heuristic(processing_times: np.ndarray)` in valid Python code.\n",
        "\n",
        "- The *average makespan* applied to training set is 4280.00 ."
      ]
    },
    {
      "cell_type": "code",
      "execution_count": null,
      "id": "8d45b283",
      "metadata": {
        "id": "8d45b283"
      },
      "outputs": [],
      "source": [
        "def neh_heuristic_rag(processing_times: np.ndarray) -> list[int]:\n",
        "    num_jobs, num_machines = processing_times.shape\n",
        "    alpha = 0.7  # Weight parameter for job scoring\n",
        "\n",
        "    # Compute a weighted score for each job\n",
        "    job_scores = []\n",
        "    for job in range(num_jobs):\n",
        "        total_time = processing_times[job].sum()\n",
        "        max_time = processing_times[job].max()\n",
        "        score = alpha * total_time + (1 - alpha) * max_time\n",
        "        job_scores.append((job, score))\n",
        "\n",
        "    # Sort jobs by descending score\n",
        "    job_scores.sort(key=lambda x: x[1], reverse=True)\n",
        "\n",
        "    # Initialize an empty schedule\n",
        "    schedule = []\n",
        "\n",
        "    # Insert jobs in sequence with minimum makespan\n",
        "    for job, _ in job_scores:\n",
        "        best_seq = None\n",
        "        best_makespan = float('inf')\n",
        "        for pos in range(len(schedule) + 1):\n",
        "            candidate_seq = schedule[:pos] + [job] + schedule[pos:]\n",
        "            ms = compute_makespan(candidate_seq, processing_times)\n",
        "            if ms < best_makespan:\n",
        "                best_makespan = ms\n",
        "                best_seq = candidate_seq\n",
        "        schedule = best_seq\n",
        "\n",
        "    # Local search: pairwise swaps for further improvement\n",
        "    improvement = True\n",
        "    while improvement:\n",
        "        improvement = False\n",
        "        current_makespan = compute_makespan(schedule, processing_times)\n",
        "        for i in range(num_jobs - 1):\n",
        "            for j in range(i + 1, num_jobs):\n",
        "                new_seq = schedule.copy()\n",
        "                new_seq[i], new_seq[j] = new_seq[j], new_seq[i]\n",
        "                new_makespan = compute_makespan(new_seq, processing_times)\n",
        "                if new_makespan < current_makespan:\n",
        "                    schedule = new_seq\n",
        "                    current_makespan = new_makespan\n",
        "                    improvement = True\n",
        "                    break  # Restart search after each improvement\n",
        "            if improvement:\n",
        "                break\n",
        "\n",
        "    return schedule"
      ]
    },
    {
      "cell_type": "markdown",
      "id": "9dec46d0",
      "metadata": {
        "id": "9dec46d0"
      },
      "source": [
        "**Results**"
      ]
    },
    {
      "cell_type": "code",
      "execution_count": null,
      "id": "638285dcccf1a8a8",
      "metadata": {
        "id": "638285dcccf1a8a8"
      },
      "outputs": [],
      "source": [
        "def run_funsearch_pe(instances, neh_variants, eval_metric, verbose=False):\n",
        "\n",
        "    res = []\n",
        "\n",
        "    for ins in instances:\n",
        "        directory = '/'.join(ins.split('/')[:-1])\n",
        "        filename = ins.split('/')[-1]\n",
        "        fs_data = load_datasets(directory)[filename]\n",
        "        fs_data = np.array(fs_data)\n",
        "\n",
        "        num_jobs, num_machines = fs_data.shape\n",
        "\n",
        "        if verbose:\n",
        "            print(f\"\\nProblem: {ins} | Jobs: {num_jobs} | Machines: {num_machines}\")\n",
        "\n",
        "        best_value = {\n",
        "            'sequence': [],\n",
        "            'makespan': sys.float_info.max,\n",
        "            'time': sys.float_info.max,\n",
        "            'used_prompt': ''\n",
        "        }\n",
        "\n",
        "        for variant in neh_variants:\n",
        "            variant_name = variant.__name__\n",
        "\n",
        "            if verbose:\n",
        "                print(f\"\\nEvaluating {variant_name}:\")\n",
        "\n",
        "            start_time = time.time()\n",
        "            schedule = variant(fs_data)\n",
        "            time_spent = time.time() - start_time\n",
        "\n",
        "            final_makespan = calc_makespan(schedule, fs_data)\n",
        "\n",
        "            if eval_metric not in ['makespan', 'time']:\n",
        "                raise ValueError('Evaluation metric not supported')\n",
        "\n",
        "            if final_makespan < best_value[eval_metric]:\n",
        "                best_value = {\n",
        "                    'sequence': schedule,\n",
        "                    'makespan': final_makespan,\n",
        "                    'time': time_spent,\n",
        "                    'used_prompt': variant_name\n",
        "                }\n",
        "\n",
        "        if verbose:\n",
        "            print(f\"Sequence: {best_value['sequence']}\")\n",
        "            print(f\"Makespan: {best_value['makespan']}\")\n",
        "            print(f\"Time: {best_value['time']}\")\n",
        "            print(f\"Used Prompt Name: {best_value['used_prompt']}\")\n",
        "\n",
        "        res.append(best_value)\n",
        "\n",
        "    return res"
      ]
    },
    {
      "cell_type": "code",
      "execution_count": null,
      "id": "ff158903",
      "metadata": {
        "colab": {
          "base_uri": "https://localhost:8080/"
        },
        "id": "ff158903",
        "outputId": "25dbd283-386c-4e4b-809c-2f05c7bf20db"
      },
      "outputs": [
        {
          "output_type": "stream",
          "name": "stdout",
          "text": [
            "\n",
            "Problem: /content/Flowshop-FunSearch/data/carlier/carlier1.txt | Jobs: 11 | Machines: 5\n",
            "\n",
            "Evaluating neh_heuristic:\n",
            "\n",
            "Evaluating neh_heuristic_base:\n",
            "\n",
            "Evaluating neh_heuristic_intruct_Open_ended:\n",
            "\n",
            "Evaluating neh_heuristic_intruct_Orientation:\n",
            "\n",
            "Evaluating neh_heuristic_rag:\n",
            "Sequence: [7, 4, 8, 3, 0, 2, 10, 6, 5, 1, 9]\n",
            "Makespan: 7038.0\n",
            "Time: 0.013859987258911133\n",
            "Used Prompt Name: neh_heuristic\n",
            "\n",
            "Problem: /content/Flowshop-FunSearch/data/carlier/carlier2.txt | Jobs: 13 | Machines: 4\n",
            "\n",
            "Evaluating neh_heuristic:\n",
            "\n",
            "Evaluating neh_heuristic_base:\n",
            "\n",
            "Evaluating neh_heuristic_intruct_Open_ended:\n",
            "\n",
            "Evaluating neh_heuristic_intruct_Orientation:\n",
            "\n",
            "Evaluating neh_heuristic_rag:\n",
            "Sequence: [6, 10, 8, 7, 3, 1, 11, 9, 2, 4, 12, 0, 5]\n",
            "Makespan: 7376.0\n",
            "Time: 0.013898849487304688\n",
            "Used Prompt Name: neh_heuristic\n",
            "\n",
            "Problem: /content/Flowshop-FunSearch/data/heller/heller2.txt | Jobs: 20 | Machines: 10\n",
            "\n",
            "Evaluating neh_heuristic:\n",
            "\n",
            "Evaluating neh_heuristic_base:\n",
            "\n",
            "Evaluating neh_heuristic_intruct_Open_ended:\n",
            "\n",
            "Evaluating neh_heuristic_intruct_Orientation:\n",
            "\n",
            "Evaluating neh_heuristic_rag:\n",
            "Sequence: [17, 0, 1, 15, 12, 8, 16, 3, 14, 19, 7, 13, 5, 2, 9, 18, 10, 4, 6, 11]\n",
            "Makespan: 139.0\n",
            "Time: 0.5616879463195801\n",
            "Used Prompt Name: neh_heuristic_base\n",
            "\n",
            "Problem: /content/Flowshop-FunSearch/data/reeves/reeves1.txt | Jobs: 20 | Machines: 5\n",
            "\n",
            "Evaluating neh_heuristic:\n",
            "\n",
            "Evaluating neh_heuristic_base:\n",
            "\n",
            "Evaluating neh_heuristic_intruct_Open_ended:\n",
            "\n",
            "Evaluating neh_heuristic_intruct_Orientation:\n",
            "\n",
            "Evaluating neh_heuristic_rag:\n",
            "Sequence: [5, 8, 1, 17, 13, 16, 0, 14, 2, 11, 6, 19, 12, 3, 10, 4, 7, 9, 15, 18]\n",
            "Makespan: 1274.0\n",
            "Time: 0.08678150177001953\n",
            "Used Prompt Name: neh_heuristic_intruct_Open_ended\n",
            "\n",
            "Problem: /content/Flowshop-FunSearch/data/reeves/reeves2.txt | Jobs: 20 | Machines: 5\n",
            "\n",
            "Evaluating neh_heuristic:\n",
            "\n",
            "Evaluating neh_heuristic_base:\n",
            "\n",
            "Evaluating neh_heuristic_intruct_Open_ended:\n",
            "\n",
            "Evaluating neh_heuristic_intruct_Orientation:\n",
            "\n",
            "Evaluating neh_heuristic_rag:\n",
            "Sequence: [13, 1, 0, 8, 3, 18, 4, 7, 11, 12, 6, 2, 16, 15, 9, 10, 14, 5, 17, 19]\n",
            "Makespan: 1122.0\n",
            "Time: 0.01389765739440918\n",
            "Used Prompt Name: neh_heuristic_intruct_Orientation\n",
            "\n",
            "Problem: /content/Flowshop-FunSearch/data/reeves/reeves3.txt | Jobs: 20 | Machines: 5\n",
            "\n",
            "Evaluating neh_heuristic:\n",
            "\n",
            "Evaluating neh_heuristic_base:\n",
            "\n",
            "Evaluating neh_heuristic_intruct_Open_ended:\n",
            "\n",
            "Evaluating neh_heuristic_intruct_Orientation:\n",
            "\n",
            "Evaluating neh_heuristic_rag:\n",
            "Sequence: [18, 7, 19, 4, 2, 1, 9, 17, 6, 8, 5, 0, 12, 15, 16, 11, 10, 3, 14, 13]\n",
            "Makespan: 1247.0\n",
            "Time: 0.042429447174072266\n",
            "Used Prompt Name: neh_heuristic_rag\n"
          ]
        }
      ],
      "source": [
        "# List of all NEH variants to evaluate\n",
        "neh_variants = [\n",
        "    neh_heuristic,\n",
        "    neh_heuristic_base,\n",
        "    neh_heuristic_intruct_Open_ended,\n",
        "    neh_heuristic_intruct_Orientation,\n",
        "    neh_heuristic_rag,\n",
        "]\n",
        "\n",
        "_ = run_funsearch_pe(instances, neh_variants, 'makespan', verbose=True)"
      ]
    },
    {
      "cell_type": "markdown",
      "id": "faf527d2cdc8a943",
      "metadata": {
        "id": "faf527d2cdc8a943"
      },
      "source": [
        "### `FunSearch` with Curriculum Learning"
      ]
    },
    {
      "cell_type": "markdown",
      "id": "8babde0e35b8e83c",
      "metadata": {
        "id": "8babde0e35b8e83c"
      },
      "source": [
        "This is our key improvements that has made on the basic FunSearch Framework. The main idea of the new framework is applying **Curriculum Learning** in the evolving process of FunSearch.\n",
        "\n",
        "Specifically, a single iteration of evolving is now turned into multiple iterations. In this framework, we call them 'Stages':\n",
        "- The input instances are divided into various stages, starting from 'easy' instances all the way up to 'complicated' instances\n",
        "    - Degrees of complication are defined manually\n",
        "- At each stage, FunSearch is executed only with the instances belong to that stage, and gets the result\n",
        "- If the result of current stage is higher than the baseline score, then it enters the next stage, namely a more complicated stage\n",
        "    - Baseline function that provides baseline score is given by the raw function at each stage before the actual evolving\n",
        "- If the result of current stage is lower than the baseline score, it keeps trying until it reaches the maximum number of attempts defined in advance, or gets a better score and escapes current stage\n",
        "- The final output of this framework can either be the 'semi-evolved' or 'completely-evolved' function due to the maximum attempts limit\n",
        "\n",
        "> See directory `implementation_cl` for the detailed implementation of this framework.\n"
      ]
    },
    {
      "cell_type": "markdown",
      "id": "1237b5b6",
      "metadata": {
        "id": "1237b5b6"
      },
      "source": [
        "This is the evolved NEH function using our FunSearch-CL framework:"
      ]
    },
    {
      "cell_type": "code",
      "execution_count": null,
      "id": "784d2cc54cb3112a",
      "metadata": {
        "id": "784d2cc54cb3112a"
      },
      "outputs": [],
      "source": [
        "def compute_makespan(schedule: list[int], processing_times: np.ndarray) -> int:\n",
        "    \"\"\"\n",
        "    Compute the makespan (total completion time) for a given job schedule in a PFSP.\n",
        "    - schedule: list of job indices in the order they are processed.\n",
        "    - processing_times: 2D numpy array of shape (num_jobs, num_machines) with processing times for each job on each machine.\n",
        "    Returns the makespan (int) for the given order.\n",
        "    \"\"\"\n",
        "    num_jobs = len(schedule)\n",
        "    num_machines = processing_times.shape[1]\n",
        "    if num_jobs == 0:\n",
        "        return 0\n",
        "\n",
        "    completion_times = np.zeros((num_jobs, num_machines), dtype=int)\n",
        "    first_job = schedule[0]\n",
        "    completion_times[0, 0] = processing_times[first_job, 0]\n",
        "    for m in range(1, num_machines):\n",
        "        completion_times[0, m] = completion_times[0, m - 1] + processing_times[first_job, m]\n",
        "\n",
        "    for i in range(1, num_jobs):\n",
        "        job = schedule[i]\n",
        "        completion_times[i, 0] = completion_times[i - 1, 0] + processing_times[job, 0]\n",
        "        for m in range(1, num_machines):\n",
        "            completion_times[i, m] = max(completion_times[i, m - 1], completion_times[i - 1, m]) + processing_times[\n",
        "                job, m]\n",
        "\n",
        "    return int(completion_times[-1, -1])\n",
        "\n",
        "\n",
        "def evolved_neh_cl(processing_times: np.ndarray) -> list[int]:\n",
        "    import random\n",
        "    num_jobs, num_machines = processing_times.shape\n",
        "\n",
        "    def compute_priority_scores():\n",
        "        scores = []\n",
        "        weights = np.linspace(1.5, 0.5, num=num_machines)\n",
        "        weighted_sums = processing_times @ weights\n",
        "        for j in range(num_jobs):\n",
        "            bottleneck = np.max(processing_times[j])\n",
        "            score = 0.7 * weighted_sums[j] + 0.2 * processing_times[j].sum() + 0.1 * bottleneck\n",
        "            scores.append((j, score))\n",
        "        return sorted(scores, key=lambda x: -x[1])\n",
        "\n",
        "    def dynamic_insertion(seq, job_id):\n",
        "        best_seq = None\n",
        "        best_makespan = float('inf')\n",
        "        for i in range(len(seq) + 1):\n",
        "            candidate = seq[:i] + [job_id] + seq[i:]\n",
        "            ms = compute_makespan(candidate, processing_times)\n",
        "            if ms < best_makespan:\n",
        "                best_makespan = ms\n",
        "                best_seq = candidate\n",
        "        return best_seq\n",
        "\n",
        "    def balance_machine_load(sequence):\n",
        "        loads = np.zeros((num_machines,))\n",
        "        for job in sequence:\n",
        "            loads += processing_times[job]\n",
        "        return np.std(loads)\n",
        "\n",
        "    def tabu_local_search(init_seq, tabu_tenure=5, max_iter=100):\n",
        "        current_seq = init_seq[:]\n",
        "        best_seq = current_seq[:]\n",
        "        best_makespan = compute_makespan(best_seq, processing_times)\n",
        "        tabu_list = {}\n",
        "        iteration = 0\n",
        "\n",
        "        while iteration < max_iter:\n",
        "            neighborhood = []\n",
        "            for i in range(num_jobs):\n",
        "                for j in range(i + 1, num_jobs):\n",
        "                    if (i, j) in tabu_list and tabu_list[(i, j)] > iteration:\n",
        "                        continue\n",
        "                    temp_seq = current_seq[:]\n",
        "                    temp_seq[i], temp_seq[j] = temp_seq[j], temp_seq[i]\n",
        "                    ms = compute_makespan(temp_seq, processing_times)\n",
        "                    load_dev = balance_machine_load(temp_seq)\n",
        "                    score = ms + 0.01 * load_dev\n",
        "                    neighborhood.append((score, ms, (i, j), temp_seq))\n",
        "\n",
        "            if not neighborhood:\n",
        "                break\n",
        "\n",
        "            neighborhood.sort()\n",
        "            score, ms, move, candidate_seq = neighborhood[0]\n",
        "            current_seq = candidate_seq[:]\n",
        "            tabu_list[move] = iteration + tabu_tenure\n",
        "\n",
        "            if ms < best_makespan:\n",
        "                best_makespan = ms\n",
        "                best_seq = current_seq[:]\n",
        "\n",
        "            iteration += 1\n",
        "\n",
        "        return best_seq\n",
        "\n",
        "    def adaptive_restart(base_seq, num_restarts=4):\n",
        "        best_seq = base_seq[:]\n",
        "        best_ms = compute_makespan(best_seq, processing_times)\n",
        "        for r in range(num_restarts):\n",
        "            shuffled = base_seq[:]\n",
        "            random.shuffle(shuffled)\n",
        "            evolved = tabu_local_search(shuffled, max_iter=30)\n",
        "            ms = compute_makespan(evolved, processing_times)\n",
        "            if ms < best_ms:\n",
        "                best_ms = ms\n",
        "                best_seq = evolved\n",
        "        return best_seq\n",
        "\n",
        "    scored_jobs = compute_priority_scores()\n",
        "    ordered_jobs = [j for j, _ in scored_jobs]\n",
        "\n",
        "    sequence = []\n",
        "    for job in ordered_jobs:\n",
        "        sequence = dynamic_insertion(sequence, job)\n",
        "\n",
        "    sequence = tabu_local_search(sequence)\n",
        "    sequence = adaptive_restart(sequence, num_restarts=5)\n",
        "\n",
        "    return sequence"
      ]
    },
    {
      "cell_type": "markdown",
      "id": "246f825f",
      "metadata": {
        "id": "246f825f"
      },
      "source": [
        "Get the results:"
      ]
    },
    {
      "cell_type": "code",
      "execution_count": null,
      "id": "91b3ff12",
      "metadata": {
        "id": "91b3ff12"
      },
      "outputs": [],
      "source": [
        "def run_funsearch_cl(instances, verbose=False):\n",
        "\n",
        "    res = []\n",
        "\n",
        "    for ins in instances:\n",
        "        directory = '/'.join(ins.split('/')[:-1])\n",
        "        filename = ins.split('/')[-1]\n",
        "        fs_data = load_datasets(directory)[filename]\n",
        "        fs_data = np.array(fs_data)\n",
        "\n",
        "        num_jobs, num_machines = fs_data.shape\n",
        "\n",
        "        if verbose:\n",
        "            print(f\"Problem: {ins} | Jobs: {num_jobs} | Machines: {num_machines}\")\n",
        "\n",
        "        start_time = time.time()\n",
        "        schedule = evolved_neh_cl(fs_data)\n",
        "        time_spent = time.time() - start_time\n",
        "\n",
        "        final_makespan = calc_makespan(schedule, fs_data)\n",
        "\n",
        "        if verbose:\n",
        "            print(f\"Sequence: {schedule}\")\n",
        "            print(f\"Makespan: {final_makespan}\")\n",
        "            print(f\"Time: {time_spent}\\n\")\n",
        "\n",
        "        res.append({\n",
        "            'sequence': schedule,\n",
        "            'makespan': final_makespan,\n",
        "            'time': time_spent\n",
        "        })\n",
        "\n",
        "        # plot_gantt_chart(schedule, fs_data)\n",
        "\n",
        "    return res"
      ]
    },
    {
      "cell_type": "code",
      "execution_count": null,
      "id": "dad1569c",
      "metadata": {
        "id": "dad1569c",
        "outputId": "205e3dc5-39e3-4b91-d188-07955b660926"
      },
      "outputs": [
        {
          "name": "stdout",
          "output_type": "stream",
          "text": [
            "Problem: data/carlier/carlier1.txt | Jobs: 11 | Machines: 5\n",
            "Sequence: [7, 0, 2, 4, 3, 10, 8, 6, 1, 9, 5]\n",
            "Makespan: 7038.0\n",
            "Time: 0.7044079303741455\n",
            "\n",
            "Problem: data/carlier/carlier2.txt | Jobs: 13 | Machines: 4\n",
            "Sequence: [6, 2, 3, 10, 12, 0, 1, 8, 7, 11, 4, 9, 5]\n",
            "Makespan: 7166.0\n",
            "Time: 0.920414924621582\n",
            "\n",
            "Problem: data/heller/heller2.txt | Jobs: 20 | Machines: 10\n",
            "Sequence: [0, 1, 15, 19, 13, 18, 14, 3, 12, 8, 7, 11, 16, 2, 17, 5, 9, 10, 6, 4]\n",
            "Makespan: 137.0\n",
            "Time: 6.5494818687438965\n",
            "\n",
            "Problem: data/reeves/reeves1.txt | Jobs: 20 | Machines: 5\n",
            "Sequence: [5, 8, 16, 14, 19, 1, 0, 17, 3, 12, 13, 6, 4, 2, 11, 10, 9, 7, 15, 18]\n",
            "Makespan: 1249.0\n",
            "Time: 3.950127124786377\n",
            "\n",
            "Problem: data/reeves/reeves2.txt | Jobs: 20 | Machines: 5\n",
            "Sequence: [5, 13, 6, 1, 12, 0, 3, 2, 4, 18, 10, 7, 16, 15, 9, 11, 8, 14, 17, 19]\n",
            "Makespan: 1109.0\n",
            "Time: 3.858069896697998\n",
            "\n",
            "Problem: data/reeves/reeves3.txt | Jobs: 20 | Machines: 5\n",
            "Sequence: [18, 2, 4, 11, 7, 15, 17, 6, 12, 5, 10, 8, 19, 16, 3, 14, 9, 1, 0, 13]\n",
            "Makespan: 1245.0\n",
            "Time: 3.6407458782196045\n",
            "\n"
          ]
        }
      ],
      "source": [
        "_ = run_funsearch_cl(instances, verbose=True)"
      ]
    },
    {
      "cell_type": "markdown",
      "id": "a6537eeb104fb003",
      "metadata": {
        "id": "a6537eeb104fb003"
      },
      "source": [
        "## Evaluations"
      ]
    },
    {
      "cell_type": "markdown",
      "id": "03ec360b",
      "metadata": {
        "id": "03ec360b"
      },
      "source": [
        "Then, we will compare these different approaches using various metrics.\n",
        "\n",
        "- Models:\n",
        "    - Baseline:\n",
        "        - Base NEH algorithm\n",
        "        - Google OR-Tools\n",
        "        - Base Evolved Function\n",
        "    - New Approaches:\n",
        "        - FunSearch Utilizing Prompt Engineering\n",
        "        - FunSearch Incorporating Curriculum Learning\n",
        "\n",
        "- Metrics:\n",
        "    - Final Makespan\n",
        "    - Rate of Increase in Makespan\n",
        "    - Execution Time\n",
        "    - Proportion of Improved Makespan Across All Datasets"
      ]
    },
    {
      "cell_type": "markdown",
      "id": "f97fcb32",
      "metadata": {
        "id": "f97fcb32"
      },
      "source": [
        "First, we define some util functions:"
      ]
    },
    {
      "cell_type": "code",
      "execution_count": null,
      "id": "ab7e1608",
      "metadata": {
        "id": "ab7e1608"
      },
      "outputs": [],
      "source": [
        "import matplotlib.pyplot as plt"
      ]
    },
    {
      "cell_type": "code",
      "execution_count": null,
      "id": "5c70c156",
      "metadata": {
        "id": "5c70c156"
      },
      "outputs": [],
      "source": [
        "models = [\n",
        "    run_base_neh,\n",
        "    run_or_tools,\n",
        "    run_base_funsearch,\n",
        "    run_funsearch_pe,\n",
        "    run_funsearch_cl,\n",
        "]\n",
        "\n",
        "model_names = ['Base NEH', 'OR-Tools', 'Base FunSearch', 'FunSearch-PE', 'FunSearch-CL']"
      ]
    },
    {
      "cell_type": "code",
      "execution_count": null,
      "id": "126f437a",
      "metadata": {
        "id": "126f437a"
      },
      "outputs": [],
      "source": [
        "def get_metrics(funcs, instance):\n",
        "\n",
        "    metrics = {\n",
        "        'makespan': [],\n",
        "        'time': []\n",
        "    }\n",
        "\n",
        "    for func in funcs:\n",
        "\n",
        "        if func.__name__ == 'run_funsearch_pe':\n",
        "            res = func([instance], neh_variants, 'makespan')\n",
        "        else:\n",
        "            res = func([instance])\n",
        "\n",
        "        metrics['makespan'].append(res[0]['makespan'])\n",
        "        metrics['time'].append(res[0]['time'])\n",
        "\n",
        "    return metrics"
      ]
    },
    {
      "cell_type": "code",
      "execution_count": null,
      "id": "9fe2a4de",
      "metadata": {
        "id": "9fe2a4de"
      },
      "outputs": [],
      "source": [
        "def draw_makespan_comp(metric_lst, instance_name, model_names):\n",
        "    plt.figure(figsize=(10, 6))\n",
        "    bars = plt.bar(model_names, metric_lst, color='skyblue', edgecolor='black')\n",
        "\n",
        "    baseline_val = metric_lst[0]\n",
        "\n",
        "    for bar, value in zip(bars, metric_lst):\n",
        "        increase_rate = ((baseline_val - value) / baseline_val) * 100\n",
        "        plt.text(bar.get_x() + bar.get_width() / 2, bar.get_height() / 2, f'{value:.0f}({increase_rate:.2f}%)',\n",
        "                ha='center', va='bottom', fontsize=10)\n",
        "    plt.xlabel('Models')\n",
        "    plt.ylabel('Makespan')\n",
        "    plt.title(f\"Comparison of Makespan Across Models - {instance_name}\")\n",
        "    plt.xticks(rotation=45)\n",
        "    plt.tight_layout()\n",
        "    plt.show()"
      ]
    },
    {
      "cell_type": "code",
      "execution_count": null,
      "id": "c003f66f",
      "metadata": {
        "id": "c003f66f"
      },
      "outputs": [],
      "source": [
        "def draw_time_comp(metric_lst, instance_name, model_names):\n",
        "    plt.figure(figsize=(10, 6))\n",
        "    bars = plt.bar(model_names, metric_lst, color='skyblue', edgecolor='black')\n",
        "    for bar, value in zip(bars, metric_lst):\n",
        "        plt.text(bar.get_x() + bar.get_width() / 2, bar.get_height() / 2, f'{value:.4f}',\n",
        "                ha='center', va='bottom', fontsize=10)\n",
        "    plt.xlabel('Models')\n",
        "    plt.ylabel('Time (Scaled)')\n",
        "    plt.yscale('log')  # y轴使用对数刻度\n",
        "    plt.title(f\"Comparison of Time Across Models - {instance_name}\")\n",
        "    plt.xticks(rotation=45)\n",
        "    plt.tight_layout()\n",
        "    plt.show()"
      ]
    },
    {
      "cell_type": "markdown",
      "id": "ee06bc02",
      "metadata": {
        "id": "ee06bc02"
      },
      "source": [
        "### Evaluation on Training Instances\n",
        "\n",
        "First we check these metrics on some training instances:"
      ]
    },
    {
      "cell_type": "code",
      "execution_count": null,
      "id": "4830d4e068c651b5",
      "metadata": {
        "colab": {
          "base_uri": "https://localhost:8080/",
          "height": 1000
        },
        "id": "4830d4e068c651b5",
        "outputId": "489b0920-2e02-4266-819b-3f329c95fdb5"
      },
      "outputs": [
        {
          "output_type": "stream",
          "name": "stdout",
          "text": [
            "Makespan: [7376, 7166.0, np.float64(7376.0), np.float64(7376.0), np.float64(7166.0)]\n",
            "Time': [0.0011110305786132812, 0.8354723453521729, 0.006602048873901367, 0.007165193557739258, 1.6868743896484375]\n"
          ]
        },
        {
          "output_type": "display_data",
          "data": {
            "text/plain": [
              "<Figure size 1000x600 with 1 Axes>"
            ],
            "image/png": "[encoded data removed]"
          },
          "metadata": {}
        },
        {
          "output_type": "display_data",
          "data": {
            "text/plain": [
              "<Figure size 1000x600 with 1 Axes>"
            ],
            "image/png": "[encoded data removed]"
          },
          "metadata": {}
        }
      ],
      "source": [
        "\"\"\"carlier/carlier2 (13 Jobs, 4 Machines)\"\"\"\n",
        "\n",
        "\n",
        "eval_instance = '/content/Flowshop-FunSearch/data/carlier/carlier2.txt'\n",
        "\n",
        "instance_name = eval_instance.split('/')[-1].split('.')[0]\n",
        "\n",
        "eval_value = get_metrics(models, eval_instance)\n",
        "print(f\"Makespan: {eval_value['makespan']}\")\n",
        "print(f\"Time': {eval_value['time']}\")\n",
        "\n",
        "draw_makespan_comp(eval_value['makespan'], instance_name, model_names)\n",
        "\n",
        "draw_time_comp(eval_value['time'], instance_name, model_names)"
      ]
    },
    {
      "cell_type": "code",
      "execution_count": null,
      "id": "cc5cc4cc",
      "metadata": {
        "colab": {
          "base_uri": "https://localhost:8080/",
          "height": 1000
        },
        "id": "cc5cc4cc",
        "outputId": "13346293-f101-408b-e3f7-091d99b3f299"
      },
      "outputs": [
        {
          "output_type": "stream",
          "name": "stdout",
          "text": [
            "[Warning]: OR-Tools' execution has reached 90 seconds timelimit!\n",
            "Makespan: [1303, 0, np.float64(1261.0), np.float64(1274.0), np.float64(1249.0)]\n",
            "Time: [0.00390625, 90, 0.3061988353729248, 0.1255171298980713, 25.2842960357666]\n"
          ]
        },
        {
          "output_type": "display_data",
          "data": {
            "text/plain": [
              "<Figure size 1000x600 with 1 Axes>"
            ],
            "image/png": "[encoded data removed]"
          },
          "metadata": {}
        },
        {
          "output_type": "display_data",
          "data": {
            "text/plain": [
              "<Figure size 1000x600 with 1 Axes>"
            ],
            "image/png": "[encoded data removed]"
          },
          "metadata": {}
        }
      ],
      "source": [
        "\"\"\"reeves/reeves1 (20 Jobs, 5 Machines)\"\"\"\n",
        "\n",
        "\n",
        "eval_instance = '/content/Flowshop-FunSearch/data/reeves/reeves1.txt'\n",
        "\n",
        "instance_name = eval_instance.split('/')[-1].split('.')[0]\n",
        "\n",
        "eval_value = get_metrics(models, eval_instance)\n",
        "print(f\"Makespan: {eval_value['makespan']}\")\n",
        "print(f\"Time: {eval_value['time']}\")\n",
        "\n",
        "draw_makespan_comp(eval_value['makespan'], instance_name, model_names)\n",
        "\n",
        "draw_time_comp(eval_value['time'], instance_name, model_names)"
      ]
    },
    {
      "cell_type": "code",
      "execution_count": null,
      "id": "cc4e38c5",
      "metadata": {
        "colab": {
          "base_uri": "https://localhost:8080/",
          "height": 1000
        },
        "id": "cc4e38c5",
        "outputId": "15339e0a-f3f7-46d2-dd63-e4fb5056d45e"
      },
      "outputs": [
        {
          "output_type": "stream",
          "name": "stdout",
          "text": [
            "Makespan: [1281, 1228.0, np.float64(1271.0), np.float64(1247.0), np.float64(1245.0)]\n",
            "Time: [0.005866289138793945, 10.095229148864746, 0.04433798789978027, 0.04371953010559082, 6.994568824768066]\n"
          ]
        },
        {
          "output_type": "display_data",
          "data": {
            "text/plain": [
              "<Figure size 1000x600 with 1 Axes>"
            ],
            "image/png": "[encoded data removed]"
          },
          "metadata": {}
        },
        {
          "output_type": "display_data",
          "data": {
            "text/plain": [
              "<Figure size 1000x600 with 1 Axes>"
            ],
            "image/png": "[encoded data removed]"
          },
          "metadata": {}
        }
      ],
      "source": [
        "\"\"\"reeves/reeves3 (20 Jobs, 5 Machines)\"\"\"\n",
        "\n",
        "\n",
        "eval_instance = '/content/Flowshop-FunSearch/data/reeves/reeves3.txt'\n",
        "\n",
        "instance_name = eval_instance.split('/')[-1].split('.')[0]\n",
        "\n",
        "eval_value = get_metrics(models, eval_instance)\n",
        "print(f\"Makespan: {eval_value['makespan']}\")\n",
        "print(f\"Time: {eval_value['time']}\")\n",
        "\n",
        "draw_makespan_comp(eval_value['makespan'], instance_name, model_names)\n",
        "\n",
        "draw_time_comp(eval_value['time'], instance_name, model_names)"
      ]
    },
    {
      "cell_type": "markdown",
      "id": "7f850455",
      "metadata": {
        "id": "7f850455"
      },
      "source": [
        "From the results above, we can initially indicate these conclusions:\n",
        "- For most of the cases, Google OR-Tools, FunSearhc-PE, and FunSearch-CL will give the best makespans.\n",
        "- However, the time needed by Google OR-Tools and FunSearch-CL are normally high.\n",
        "- Hence, for time limited cases, FunSearch-PE will be the best choice; if the optimal makespan is needed, then FunSearch-CL will be the best choice.\n",
        "\n",
        "> **Note**: Google OR-Tools is excluded since it will execute even more than 1 hour if the number of machines and jobs are just slightly large, while FunSearch-CL can guarantee the reasonable execution time during our experiments no matter how big the input is.\n",
        "> - And this is also the reason why we put timelimit to the execution of OR-Tools.\n",
        "> - Hence, for subsequent evaluations will exclude Google OR-Tools."
      ]
    },
    {
      "cell_type": "markdown",
      "id": "6d41fcb5",
      "metadata": {
        "id": "6d41fcb5"
      },
      "source": [
        "### Evaluation on Testing Instances\n",
        "\n",
        "Then we check these metrics on some testing instances:"
      ]
    },
    {
      "cell_type": "code",
      "execution_count": null,
      "id": "0f5bb550",
      "metadata": {
        "id": "0f5bb550"
      },
      "outputs": [],
      "source": [
        "models = [\n",
        "    run_base_neh,\n",
        "    run_base_funsearch,\n",
        "    run_funsearch_pe,\n",
        "    run_funsearch_cl,\n",
        "]\n",
        "\n",
        "model_names = ['Base NEH', 'Base FunSearch', 'FunSearch-PE', 'FunSearch-CL']"
      ]
    },
    {
      "cell_type": "code",
      "execution_count": null,
      "id": "8ec97034",
      "metadata": {
        "colab": {
          "base_uri": "https://localhost:8080/",
          "height": 1000
        },
        "id": "8ec97034",
        "outputId": "756d68b4-a4ea-4cd4-bde1-1818a7b376b5"
      },
      "outputs": [
        {
          "output_type": "stream",
          "name": "stdout",
          "text": [
            "Makespan: [8773, np.float64(8570.0), np.float64(8570.0), np.float64(8505.0)]\n",
            "Time': [0.0008015632629394531, 0.01069498062133789, 0.010216474533081055, 1.1614534854888916]\n"
          ]
        },
        {
          "output_type": "display_data",
          "data": {
            "text/plain": [
              "<Figure size 1000x600 with 1 Axes>"
            ],
            "image/png": "[encoded data removed]"
          },
          "metadata": {}
        },
        {
          "output_type": "display_data",
          "data": {
            "text/plain": [
              "<Figure size 1000x600 with 1 Axes>"
            ],
            "image/png": "[encoded data removed]"
          },
          "metadata": {}
        }
      ],
      "source": [
        "\"\"\"carlier/carlier6 (8 Jobs, 9 Machines)\"\"\"\n",
        "\n",
        "\n",
        "eval_instance = '/content/Flowshop-FunSearch/data/carlier/carlier6.txt'\n",
        "\n",
        "instance_name = eval_instance.split('/')[-1].split('.')[0]\n",
        "\n",
        "eval_value = get_metrics(models, eval_instance)\n",
        "print(f\"Makespan: {eval_value['makespan']}\")\n",
        "print(f\"Time': {eval_value['time']}\")\n",
        "\n",
        "draw_makespan_comp(eval_value['makespan'], instance_name, model_names)\n",
        "\n",
        "draw_time_comp(eval_value['time'], instance_name, model_names)"
      ]
    },
    {
      "cell_type": "code",
      "execution_count": null,
      "id": "afca77a3",
      "metadata": {
        "colab": {
          "base_uri": "https://localhost:8080/",
          "height": 1000
        },
        "id": "afca77a3",
        "outputId": "fe558d4e-16f7-4e8d-b6c0-ac291f3995dd"
      },
      "outputs": [
        {
          "output_type": "stream",
          "name": "stdout",
          "text": [
            "Makespan: [2391, np.float64(2378.0), np.float64(2370.0), np.float64(2332.0)]\n",
            "Time': [0.03891873359680176, 0.6666126251220703, 0.4813239574432373, 65.32383704185486]\n"
          ]
        },
        {
          "output_type": "display_data",
          "data": {
            "text/plain": [
              "<Figure size 1000x600 with 1 Axes>"
            ],
            "image/png": "[encoded data removed]"
          },
          "metadata": {}
        },
        {
          "output_type": "display_data",
          "data": {
            "text/plain": [
              "<Figure size 1000x600 with 1 Axes>"
            ],
            "image/png": "[encoded data removed]"
          },
          "metadata": {}
        }
      ],
      "source": [
        "\"\"\"reeves/reeves15 (30 Jobs, 15 Machines)\"\"\"\n",
        "\n",
        "\n",
        "eval_instance = '/content/Flowshop-FunSearch/data/reeves/reeves15.txt'\n",
        "\n",
        "instance_name = eval_instance.split('/')[-1].split('.')[0]\n",
        "\n",
        "eval_value = get_metrics(models, eval_instance)\n",
        "print(f\"Makespan: {eval_value['makespan']}\")\n",
        "print(f\"Time': {eval_value['time']}\")\n",
        "\n",
        "draw_makespan_comp(eval_value['makespan'], instance_name, model_names)\n",
        "\n",
        "draw_time_comp(eval_value['time'], instance_name, model_names)"
      ]
    },
    {
      "cell_type": "code",
      "execution_count": null,
      "id": "d57df85b",
      "metadata": {
        "colab": {
          "base_uri": "https://localhost:8080/",
          "height": 1000
        },
        "id": "d57df85b",
        "outputId": "10acb764-9139-457e-ea5d-17cb3c0d0500"
      },
      "outputs": [
        {
          "output_type": "stream",
          "name": "stdout",
          "text": [
            "Makespan: [3313, np.float64(3288.0), np.float64(3282.0), np.float64(3280.0)]\n",
            "Time': [0.09605765342712402, 1.331737995147705, 4.276195049285889, 203.54395866394043]\n"
          ]
        },
        {
          "output_type": "display_data",
          "data": {
            "text/plain": [
              "<Figure size 1000x600 with 1 Axes>"
            ],
            "image/png": "[encoded data removed]"
          },
          "metadata": {}
        },
        {
          "output_type": "display_data",
          "data": {
            "text/plain": [
              "<Figure size 1000x600 with 1 Axes>"
            ],
            "image/png": "[encoded data removed]"
          },
          "metadata": {}
        }
      ],
      "source": [
        "\"\"\"reeves/reeves18 (50 Jobs, 10 Machines)\"\"\"\n",
        "\n",
        "\n",
        "eval_instance = '/content/Flowshop-FunSearch/data/reeves/reeves18.txt'\n",
        "\n",
        "instance_name = eval_instance.split('/')[-1].split('.')[0]\n",
        "\n",
        "eval_value = get_metrics(models, eval_instance)\n",
        "print(f\"Makespan: {eval_value['makespan']}\")\n",
        "print(f\"Time': {eval_value['time']}\")\n",
        "\n",
        "draw_makespan_comp(eval_value['makespan'], instance_name, model_names)\n",
        "\n",
        "draw_time_comp(eval_value['time'], instance_name, model_names)"
      ]
    },
    {
      "cell_type": "markdown",
      "id": "43ad7691",
      "metadata": {
        "id": "43ad7691"
      },
      "source": [
        "From the results, we can see that our new approaches: FunSearch-PE and FunSearch-CL is way better than the base functions in not only the time but also the makespans. The effectiveness of our approaches can be further proved."
      ]
    },
    {
      "cell_type": "markdown",
      "id": "fe4759c2",
      "metadata": {
        "id": "fe4759c2"
      },
      "source": [
        "### Evaluation on All Instances\n",
        "\n",
        "Here, we select original NEH function as the baseline, to see whether our new approaches are better than the original one as well as the evolved function generated by the naive FunSearch usage across all the instances (31 instances).\n",
        "- only the makespan will be considered here"
      ]
    },
    {
      "cell_type": "code",
      "execution_count": null,
      "id": "63305e7c",
      "metadata": {
        "id": "63305e7c"
      },
      "outputs": [],
      "source": [
        "import pandas as pd\n",
        "import os"
      ]
    },
    {
      "cell_type": "markdown",
      "id": "ab3b173e",
      "metadata": {
        "id": "ab3b173e"
      },
      "source": [
        "Compare with original NEH heuristic (This may take a long time):"
      ]
    },
    {
      "cell_type": "code",
      "execution_count": null,
      "id": "dcffeced",
      "metadata": {
        "id": "dcffeced",
        "outputId": "b25d3a2f-6b37-483f-a712-83737afcce23"
      },
      "outputs": [
        {
          "name": "stdout",
          "output_type": "stream",
          "text": [
            "Evaluating carlier3\n",
            "Evaluating carlier2\n",
            "Evaluating carlier1\n",
            "Evaluating carlier5\n",
            "Evaluating carlier4\n",
            "Evaluating carlier6\n",
            "Evaluating carlier7\n",
            "Evaluating carlier8\n",
            "Evaluating reeves7\n",
            "Evaluating reeves11\n",
            "Evaluating reeves10\n",
            "Evaluating reeves6\n",
            "Evaluating reeves4\n",
            "Evaluating reeves12\n",
            "Evaluating reeves13\n",
            "Evaluating reeves5\n",
            "Evaluating reeves17\n",
            "Evaluating reeves1\n",
            "Evaluating reeves16\n",
            "Evaluating reeves14\n",
            "Evaluating reeves2\n",
            "Evaluating reeves3\n",
            "Evaluating reeves15\n",
            "Evaluating reeves18\n",
            "Evaluating reeves19\n",
            "Evaluating reeves8\n",
            "Evaluating reeves9\n",
            "Evaluating reeves21\n",
            "Evaluating reeves20\n",
            "Evaluating heller1\n",
            "Evaluating heller2\n"
          ]
        },
        {
          "data": {
            "application/vnd.microsoft.datawrangler.viewer.v0+json": {
              "columns": [
                {
                  "name": "index",
                  "rawType": "int64",
                  "type": "integer"
                },
                {
                  "name": "Instance",
                  "rawType": "object",
                  "type": "string"
                },
                {
                  "name": "Base-NEH",
                  "rawType": "object",
                  "type": "unknown"
                },
                {
                  "name": "Base-FunSearch",
                  "rawType": "object",
                  "type": "string"
                },
                {
                  "name": "FunSearch-PE",
                  "rawType": "object",
                  "type": "string"
                },
                {
                  "name": "FunSearch-CL",
                  "rawType": "object",
                  "type": "string"
                }
              ],
              "conversionMethod": "pd.DataFrame",
              "ref": "a074040c-98a9-44b2-94de-b8989470e5a1",
              "rows": [
                [
                  "0",
                  "carlier3",
                  "7399",
                  "False-(7543.0)",
                  "False-(7399.0)",
                  "True-(7312.0)"
                ],
                [
                  "1",
                  "carlier2",
                  "7376",
                  "False-(7376.0)",
                  "False-(7376.0)",
                  "True-(7166.0)"
                ],
                [
                  "2",
                  "carlier1",
                  "7038",
                  "False-(7038.0)",
                  "False-(7038.0)",
                  "False-(7038.0)"
                ],
                [
                  "3",
                  "carlier5",
                  "7835",
                  "True-(7767.0)",
                  "True-(7720.0)",
                  "True-(7749.0)"
                ],
                [
                  "4",
                  "carlier4",
                  "8003",
                  "False-(8129.0)",
                  "False-(8003.0)",
                  "False-(8003.0)"
                ],
                [
                  "5",
                  "carlier6",
                  "8773",
                  "True-(8570.0)",
                  "True-(8570.0)",
                  "True-(8505.0)"
                ],
                [
                  "6",
                  "carlier7",
                  "6590",
                  "False-(6590.0)",
                  "False-(6590.0)",
                  "False-(6590.0)"
                ],
                [
                  "7",
                  "carlier8",
                  "8564",
                  "True-(8457.0)",
                  "True-(8366.0)",
                  "True-(8366.0)"
                ],
                [
                  "8",
                  "reeves7",
                  "2002",
                  "False-(2004.0)",
                  "True-(1978.0)",
                  "True-(1958.0)"
                ],
                [
                  "9",
                  "reeves11",
                  "2131",
                  "True-(2095.0)",
                  "True-(2052.0)",
                  "True-(2050.0)"
                ],
                [
                  "10",
                  "reeves10",
                  "2185",
                  "True-(2132.0)",
                  "True-(2141.0)",
                  "True-(2120.0)"
                ],
                [
                  "11",
                  "reeves6",
                  "1550",
                  "True-(1500.0)",
                  "True-(1492.0)",
                  "True-(1447.0)"
                ],
                [
                  "12",
                  "reeves4",
                  "1626",
                  "True-(1599.0)",
                  "False-(1626.0)",
                  "True-(1601.0)"
                ],
                [
                  "13",
                  "reeves12",
                  "2155",
                  "True-(2128.0)",
                  "True-(2089.0)",
                  "True-(2060.0)"
                ],
                [
                  "14",
                  "reeves13",
                  "2644",
                  "False-(2671.0)",
                  "True-(2608.0)",
                  "True-(2589.0)"
                ],
                [
                  "15",
                  "reeves5",
                  "1583",
                  "True-(1574.0)",
                  "True-(1574.0)",
                  "True-(1557.0)"
                ],
                [
                  "16",
                  "reeves17",
                  "3241",
                  "True-(3168.0)",
                  "True-(3166.0)",
                  "True-(3140.0)"
                ],
                [
                  "17",
                  "reeves1",
                  "1303",
                  "True-(1257.0)",
                  "True-(1274.0)",
                  "True-(1249.0)"
                ],
                [
                  "18",
                  "reeves16",
                  "3173",
                  "True-(3166.0)",
                  "True-(3137.0)",
                  "True-(3127.0)"
                ],
                [
                  "19",
                  "reeves14",
                  "2498",
                  "True-(2492.0)",
                  "True-(2439.0)",
                  "True-(2426.0)"
                ],
                [
                  "20",
                  "reeves2",
                  "1132",
                  "True-(1117.0)",
                  "True-(1122.0)",
                  "True-(1109.0)"
                ],
                [
                  "21",
                  "reeves3",
                  "1281",
                  "True-(1271.0)",
                  "True-(1247.0)",
                  "True-(1245.0)"
                ],
                [
                  "22",
                  "reeves15",
                  "2391",
                  "False-(2391.0)",
                  "True-(2370.0)",
                  "True-(2332.0)"
                ],
                [
                  "23",
                  "reeves18",
                  "3313",
                  "True-(3291.0)",
                  "True-(3282.0)",
                  "True-(3280.0)"
                ],
                [
                  "24",
                  "reeves19",
                  "5227",
                  "True-(5225.0)",
                  "True-(5156.0)",
                  "True-(5138.0)"
                ],
                [
                  "25",
                  "reeves8",
                  "2013",
                  "False-(2027.0)",
                  "True-(1998.0)",
                  "True-(1993.0)"
                ],
                [
                  "26",
                  "reeves9",
                  "2019",
                  "True-(1985.0)",
                  "True-(1959.0)",
                  "True-(1949.0)"
                ],
                [
                  "27",
                  "reeves21",
                  "5292",
                  "True-(5184.0)",
                  "True-(5198.0)",
                  "True-(5154.0)"
                ],
                [
                  "28",
                  "reeves20",
                  "5308",
                  "False-(5353.0)",
                  "True-(5257.0)",
                  "True-(5247.0)"
                ],
                [
                  "29",
                  "heller1",
                  "519",
                  "True-(518.0)",
                  "True-(517.0)",
                  "True-(514.0)"
                ],
                [
                  "30",
                  "heller2",
                  "141",
                  "True-(139.0)",
                  "True-(139.0)",
                  "True-(137.0)"
                ]
              ],
              "shape": {
                "columns": 5,
                "rows": 31
              }
            },
            "text/html": [
              "<div>\n",
              "<style scoped>\n",
              "    .dataframe tbody tr th:only-of-type {\n",
              "        vertical-align: middle;\n",
              "    }\n",
              "\n",
              "    .dataframe tbody tr th {\n",
              "        vertical-align: top;\n",
              "    }\n",
              "\n",
              "    .dataframe thead th {\n",
              "        text-align: right;\n",
              "    }\n",
              "</style>\n",
              "<table border=\"1\" class=\"dataframe\">\n",
              "  <thead>\n",
              "    <tr style=\"text-align: right;\">\n",
              "      <th></th>\n",
              "      <th>Instance</th>\n",
              "      <th>Base-NEH</th>\n",
              "      <th>Base-FunSearch</th>\n",
              "      <th>FunSearch-PE</th>\n",
              "      <th>FunSearch-CL</th>\n",
              "    </tr>\n",
              "  </thead>\n",
              "  <tbody>\n",
              "    <tr>\n",
              "      <th>0</th>\n",
              "      <td>carlier3</td>\n",
              "      <td>7399</td>\n",
              "      <td>False-(7543.0)</td>\n",
              "      <td>False-(7399.0)</td>\n",
              "      <td>True-(7312.0)</td>\n",
              "    </tr>\n",
              "    <tr>\n",
              "      <th>1</th>\n",
              "      <td>carlier2</td>\n",
              "      <td>7376</td>\n",
              "      <td>False-(7376.0)</td>\n",
              "      <td>False-(7376.0)</td>\n",
              "      <td>True-(7166.0)</td>\n",
              "    </tr>\n",
              "    <tr>\n",
              "      <th>2</th>\n",
              "      <td>carlier1</td>\n",
              "      <td>7038</td>\n",
              "      <td>False-(7038.0)</td>\n",
              "      <td>False-(7038.0)</td>\n",
              "      <td>False-(7038.0)</td>\n",
              "    </tr>\n",
              "    <tr>\n",
              "      <th>3</th>\n",
              "      <td>carlier5</td>\n",
              "      <td>7835</td>\n",
              "      <td>True-(7767.0)</td>\n",
              "      <td>True-(7720.0)</td>\n",
              "      <td>True-(7749.0)</td>\n",
              "    </tr>\n",
              "    <tr>\n",
              "      <th>4</th>\n",
              "      <td>carlier4</td>\n",
              "      <td>8003</td>\n",
              "      <td>False-(8129.0)</td>\n",
              "      <td>False-(8003.0)</td>\n",
              "      <td>False-(8003.0)</td>\n",
              "    </tr>\n",
              "    <tr>\n",
              "      <th>5</th>\n",
              "      <td>carlier6</td>\n",
              "      <td>8773</td>\n",
              "      <td>True-(8570.0)</td>\n",
              "      <td>True-(8570.0)</td>\n",
              "      <td>True-(8505.0)</td>\n",
              "    </tr>\n",
              "    <tr>\n",
              "      <th>6</th>\n",
              "      <td>carlier7</td>\n",
              "      <td>6590</td>\n",
              "      <td>False-(6590.0)</td>\n",
              "      <td>False-(6590.0)</td>\n",
              "      <td>False-(6590.0)</td>\n",
              "    </tr>\n",
              "    <tr>\n",
              "      <th>7</th>\n",
              "      <td>carlier8</td>\n",
              "      <td>8564</td>\n",
              "      <td>True-(8457.0)</td>\n",
              "      <td>True-(8366.0)</td>\n",
              "      <td>True-(8366.0)</td>\n",
              "    </tr>\n",
              "    <tr>\n",
              "      <th>8</th>\n",
              "      <td>reeves7</td>\n",
              "      <td>2002</td>\n",
              "      <td>False-(2004.0)</td>\n",
              "      <td>True-(1978.0)</td>\n",
              "      <td>True-(1958.0)</td>\n",
              "    </tr>\n",
              "    <tr>\n",
              "      <th>9</th>\n",
              "      <td>reeves11</td>\n",
              "      <td>2131</td>\n",
              "      <td>True-(2095.0)</td>\n",
              "      <td>True-(2052.0)</td>\n",
              "      <td>True-(2050.0)</td>\n",
              "    </tr>\n",
              "    <tr>\n",
              "      <th>10</th>\n",
              "      <td>reeves10</td>\n",
              "      <td>2185</td>\n",
              "      <td>True-(2132.0)</td>\n",
              "      <td>True-(2141.0)</td>\n",
              "      <td>True-(2120.0)</td>\n",
              "    </tr>\n",
              "    <tr>\n",
              "      <th>11</th>\n",
              "      <td>reeves6</td>\n",
              "      <td>1550</td>\n",
              "      <td>True-(1500.0)</td>\n",
              "      <td>True-(1492.0)</td>\n",
              "      <td>True-(1447.0)</td>\n",
              "    </tr>\n",
              "    <tr>\n",
              "      <th>12</th>\n",
              "      <td>reeves4</td>\n",
              "      <td>1626</td>\n",
              "      <td>True-(1599.0)</td>\n",
              "      <td>False-(1626.0)</td>\n",
              "      <td>True-(1601.0)</td>\n",
              "    </tr>\n",
              "    <tr>\n",
              "      <th>13</th>\n",
              "      <td>reeves12</td>\n",
              "      <td>2155</td>\n",
              "      <td>True-(2128.0)</td>\n",
              "      <td>True-(2089.0)</td>\n",
              "      <td>True-(2060.0)</td>\n",
              "    </tr>\n",
              "    <tr>\n",
              "      <th>14</th>\n",
              "      <td>reeves13</td>\n",
              "      <td>2644</td>\n",
              "      <td>False-(2671.0)</td>\n",
              "      <td>True-(2608.0)</td>\n",
              "      <td>True-(2589.0)</td>\n",
              "    </tr>\n",
              "    <tr>\n",
              "      <th>15</th>\n",
              "      <td>reeves5</td>\n",
              "      <td>1583</td>\n",
              "      <td>True-(1574.0)</td>\n",
              "      <td>True-(1574.0)</td>\n",
              "      <td>True-(1557.0)</td>\n",
              "    </tr>\n",
              "    <tr>\n",
              "      <th>16</th>\n",
              "      <td>reeves17</td>\n",
              "      <td>3241</td>\n",
              "      <td>True-(3168.0)</td>\n",
              "      <td>True-(3166.0)</td>\n",
              "      <td>True-(3140.0)</td>\n",
              "    </tr>\n",
              "    <tr>\n",
              "      <th>17</th>\n",
              "      <td>reeves1</td>\n",
              "      <td>1303</td>\n",
              "      <td>True-(1257.0)</td>\n",
              "      <td>True-(1274.0)</td>\n",
              "      <td>True-(1249.0)</td>\n",
              "    </tr>\n",
              "    <tr>\n",
              "      <th>18</th>\n",
              "      <td>reeves16</td>\n",
              "      <td>3173</td>\n",
              "      <td>True-(3166.0)</td>\n",
              "      <td>True-(3137.0)</td>\n",
              "      <td>True-(3127.0)</td>\n",
              "    </tr>\n",
              "    <tr>\n",
              "      <th>19</th>\n",
              "      <td>reeves14</td>\n",
              "      <td>2498</td>\n",
              "      <td>True-(2492.0)</td>\n",
              "      <td>True-(2439.0)</td>\n",
              "      <td>True-(2426.0)</td>\n",
              "    </tr>\n",
              "    <tr>\n",
              "      <th>20</th>\n",
              "      <td>reeves2</td>\n",
              "      <td>1132</td>\n",
              "      <td>True-(1117.0)</td>\n",
              "      <td>True-(1122.0)</td>\n",
              "      <td>True-(1109.0)</td>\n",
              "    </tr>\n",
              "    <tr>\n",
              "      <th>21</th>\n",
              "      <td>reeves3</td>\n",
              "      <td>1281</td>\n",
              "      <td>True-(1271.0)</td>\n",
              "      <td>True-(1247.0)</td>\n",
              "      <td>True-(1245.0)</td>\n",
              "    </tr>\n",
              "    <tr>\n",
              "      <th>22</th>\n",
              "      <td>reeves15</td>\n",
              "      <td>2391</td>\n",
              "      <td>False-(2391.0)</td>\n",
              "      <td>True-(2370.0)</td>\n",
              "      <td>True-(2332.0)</td>\n",
              "    </tr>\n",
              "    <tr>\n",
              "      <th>23</th>\n",
              "      <td>reeves18</td>\n",
              "      <td>3313</td>\n",
              "      <td>True-(3291.0)</td>\n",
              "      <td>True-(3282.0)</td>\n",
              "      <td>True-(3280.0)</td>\n",
              "    </tr>\n",
              "    <tr>\n",
              "      <th>24</th>\n",
              "      <td>reeves19</td>\n",
              "      <td>5227</td>\n",
              "      <td>True-(5225.0)</td>\n",
              "      <td>True-(5156.0)</td>\n",
              "      <td>True-(5138.0)</td>\n",
              "    </tr>\n",
              "    <tr>\n",
              "      <th>25</th>\n",
              "      <td>reeves8</td>\n",
              "      <td>2013</td>\n",
              "      <td>False-(2027.0)</td>\n",
              "      <td>True-(1998.0)</td>\n",
              "      <td>True-(1993.0)</td>\n",
              "    </tr>\n",
              "    <tr>\n",
              "      <th>26</th>\n",
              "      <td>reeves9</td>\n",
              "      <td>2019</td>\n",
              "      <td>True-(1985.0)</td>\n",
              "      <td>True-(1959.0)</td>\n",
              "      <td>True-(1949.0)</td>\n",
              "    </tr>\n",
              "    <tr>\n",
              "      <th>27</th>\n",
              "      <td>reeves21</td>\n",
              "      <td>5292</td>\n",
              "      <td>True-(5184.0)</td>\n",
              "      <td>True-(5198.0)</td>\n",
              "      <td>True-(5154.0)</td>\n",
              "    </tr>\n",
              "    <tr>\n",
              "      <th>28</th>\n",
              "      <td>reeves20</td>\n",
              "      <td>5308</td>\n",
              "      <td>False-(5353.0)</td>\n",
              "      <td>True-(5257.0)</td>\n",
              "      <td>True-(5247.0)</td>\n",
              "    </tr>\n",
              "    <tr>\n",
              "      <th>29</th>\n",
              "      <td>heller1</td>\n",
              "      <td>519</td>\n",
              "      <td>True-(518.0)</td>\n",
              "      <td>True-(517.0)</td>\n",
              "      <td>True-(514.0)</td>\n",
              "    </tr>\n",
              "    <tr>\n",
              "      <th>30</th>\n",
              "      <td>heller2</td>\n",
              "      <td>141</td>\n",
              "      <td>True-(139.0)</td>\n",
              "      <td>True-(139.0)</td>\n",
              "      <td>True-(137.0)</td>\n",
              "    </tr>\n",
              "  </tbody>\n",
              "</table>\n",
              "</div>"
            ],
            "text/plain": [
              "    Instance Base-NEH  Base-FunSearch    FunSearch-PE    FunSearch-CL\n",
              "0   carlier3     7399  False-(7543.0)  False-(7399.0)   True-(7312.0)\n",
              "1   carlier2     7376  False-(7376.0)  False-(7376.0)   True-(7166.0)\n",
              "2   carlier1     7038  False-(7038.0)  False-(7038.0)  False-(7038.0)\n",
              "3   carlier5     7835   True-(7767.0)   True-(7720.0)   True-(7749.0)\n",
              "4   carlier4     8003  False-(8129.0)  False-(8003.0)  False-(8003.0)\n",
              "5   carlier6     8773   True-(8570.0)   True-(8570.0)   True-(8505.0)\n",
              "6   carlier7     6590  False-(6590.0)  False-(6590.0)  False-(6590.0)\n",
              "7   carlier8     8564   True-(8457.0)   True-(8366.0)   True-(8366.0)\n",
              "8    reeves7     2002  False-(2004.0)   True-(1978.0)   True-(1958.0)\n",
              "9   reeves11     2131   True-(2095.0)   True-(2052.0)   True-(2050.0)\n",
              "10  reeves10     2185   True-(2132.0)   True-(2141.0)   True-(2120.0)\n",
              "11   reeves6     1550   True-(1500.0)   True-(1492.0)   True-(1447.0)\n",
              "12   reeves4     1626   True-(1599.0)  False-(1626.0)   True-(1601.0)\n",
              "13  reeves12     2155   True-(2128.0)   True-(2089.0)   True-(2060.0)\n",
              "14  reeves13     2644  False-(2671.0)   True-(2608.0)   True-(2589.0)\n",
              "15   reeves5     1583   True-(1574.0)   True-(1574.0)   True-(1557.0)\n",
              "16  reeves17     3241   True-(3168.0)   True-(3166.0)   True-(3140.0)\n",
              "17   reeves1     1303   True-(1257.0)   True-(1274.0)   True-(1249.0)\n",
              "18  reeves16     3173   True-(3166.0)   True-(3137.0)   True-(3127.0)\n",
              "19  reeves14     2498   True-(2492.0)   True-(2439.0)   True-(2426.0)\n",
              "20   reeves2     1132   True-(1117.0)   True-(1122.0)   True-(1109.0)\n",
              "21   reeves3     1281   True-(1271.0)   True-(1247.0)   True-(1245.0)\n",
              "22  reeves15     2391  False-(2391.0)   True-(2370.0)   True-(2332.0)\n",
              "23  reeves18     3313   True-(3291.0)   True-(3282.0)   True-(3280.0)\n",
              "24  reeves19     5227   True-(5225.0)   True-(5156.0)   True-(5138.0)\n",
              "25   reeves8     2013  False-(2027.0)   True-(1998.0)   True-(1993.0)\n",
              "26   reeves9     2019   True-(1985.0)   True-(1959.0)   True-(1949.0)\n",
              "27  reeves21     5292   True-(5184.0)   True-(5198.0)   True-(5154.0)\n",
              "28  reeves20     5308  False-(5353.0)   True-(5257.0)   True-(5247.0)\n",
              "29   heller1      519    True-(518.0)    True-(517.0)    True-(514.0)\n",
              "30   heller2      141    True-(139.0)    True-(139.0)    True-(137.0)"
            ]
          },
          "execution_count": 47,
          "metadata": {},
          "output_type": "execute_result"
        }
      ],
      "source": [
        "base_results_df = pd.DataFrame(columns=[\n",
        "    \"Instance\", \"Base-NEH\", \"Base-FunSearch\",\n",
        "    \"FunSearch-PE\", \"FunSearch-CL\"\n",
        "])\n",
        "\n",
        "evolve_results_df = pd.DataFrame(columns=[\n",
        "    \"Instance\", \"Base-FunSearch\",\n",
        "    \"FunSearch-PE\", \"FunSearch-CL\"\n",
        "])\n",
        "\n",
        "data_dir = '/content/Flowshop-FunSearch/data'\n",
        "for root, dirs, files in os.walk(data_dir):\n",
        "    for file in files:\n",
        "        if file.endswith('.txt'):\n",
        "            eval_instance = os.path.join(root, file)\n",
        "            instance_name = eval_instance.split('/')[-1].split('.')[0]\n",
        "\n",
        "            if eval_instance in ['/content/Flowshop-FunSearch/data/flowshop1.txt', '/content/Flowshop-FunSearch/data/flowshop2.txt']:\n",
        "                continue\n",
        "\n",
        "            print(f\"Evaluating {instance_name}\")\n",
        "            eval_value = get_metrics(models, eval_instance)\n",
        "            mss = eval_value['makespan']\n",
        "\n",
        "            base_new_row = pd.DataFrame([{\n",
        "                \"Instance\": instance_name,\n",
        "                \"Base-NEH\": mss[0],\n",
        "                \"Base-FunSearch\": f\"{mss[1] < mss[0]}-({mss[1]})\",\n",
        "                \"FunSearch-PE\": f\"{mss[2] < mss[0]}-({mss[2]})\",\n",
        "                \"FunSearch-CL\": f\"{mss[3] < mss[0]}-({mss[3]})\",\n",
        "            }])\n",
        "\n",
        "            evolve_new_row = pd.DataFrame([{\n",
        "                \"Instance\": instance_name,\n",
        "                \"Base-FunSearch\": f\"{mss[1] < mss[1]}-({mss[1]})\",\n",
        "                \"FunSearch-PE\": f\"{mss[2] < mss[1]}-({mss[2]})\",\n",
        "                \"FunSearch-CL\": f\"{mss[3] < mss[1]}-({mss[3]})\",\n",
        "            }])\n",
        "\n",
        "            base_results_df = pd.concat([base_results_df, base_new_row], ignore_index=True)\n",
        "            evolve_results_df = pd.concat([evolve_results_df, evolve_new_row], ignore_index=True)\n",
        "\n",
        "base_results_df"
      ]
    },
    {
      "cell_type": "markdown",
      "id": "19496d9e",
      "metadata": {
        "id": "19496d9e"
      },
      "source": [
        "Compare with evolved NEH using naive FunSearch:"
      ]
    },
    {
      "cell_type": "code",
      "execution_count": null,
      "id": "8cf29021",
      "metadata": {
        "id": "8cf29021",
        "outputId": "b52915d8-9064-451a-9976-e1650dcc2b38"
      },
      "outputs": [
        {
          "data": {
            "application/vnd.microsoft.datawrangler.viewer.v0+json": {
              "columns": [
                {
                  "name": "index",
                  "rawType": "int64",
                  "type": "integer"
                },
                {
                  "name": "Instance",
                  "rawType": "object",
                  "type": "string"
                },
                {
                  "name": "Base-FunSearch",
                  "rawType": "object",
                  "type": "string"
                },
                {
                  "name": "FunSearch-PE",
                  "rawType": "object",
                  "type": "string"
                },
                {
                  "name": "FunSearch-CL",
                  "rawType": "object",
                  "type": "string"
                }
              ],
              "conversionMethod": "pd.DataFrame",
              "ref": "936793b9-d878-44c0-aa95-a327e2e0aa95",
              "rows": [
                [
                  "0",
                  "carlier3",
                  "False-(7543.0)",
                  "True-(7399.0)",
                  "True-(7312.0)"
                ],
                [
                  "1",
                  "carlier2",
                  "False-(7376.0)",
                  "False-(7376.0)",
                  "True-(7166.0)"
                ],
                [
                  "2",
                  "carlier1",
                  "False-(7038.0)",
                  "False-(7038.0)",
                  "False-(7038.0)"
                ],
                [
                  "3",
                  "carlier5",
                  "False-(7767.0)",
                  "True-(7720.0)",
                  "True-(7749.0)"
                ],
                [
                  "4",
                  "carlier4",
                  "False-(8129.0)",
                  "True-(8003.0)",
                  "True-(8003.0)"
                ],
                [
                  "5",
                  "carlier6",
                  "False-(8570.0)",
                  "False-(8570.0)",
                  "True-(8505.0)"
                ],
                [
                  "6",
                  "carlier7",
                  "False-(6590.0)",
                  "False-(6590.0)",
                  "False-(6590.0)"
                ],
                [
                  "7",
                  "carlier8",
                  "False-(8457.0)",
                  "True-(8366.0)",
                  "True-(8366.0)"
                ],
                [
                  "8",
                  "reeves7",
                  "False-(2004.0)",
                  "True-(1978.0)",
                  "True-(1958.0)"
                ],
                [
                  "9",
                  "reeves11",
                  "False-(2095.0)",
                  "True-(2052.0)",
                  "True-(2050.0)"
                ],
                [
                  "10",
                  "reeves10",
                  "False-(2132.0)",
                  "False-(2141.0)",
                  "True-(2120.0)"
                ],
                [
                  "11",
                  "reeves6",
                  "False-(1500.0)",
                  "True-(1492.0)",
                  "True-(1447.0)"
                ],
                [
                  "12",
                  "reeves4",
                  "False-(1599.0)",
                  "False-(1626.0)",
                  "False-(1601.0)"
                ],
                [
                  "13",
                  "reeves12",
                  "False-(2128.0)",
                  "True-(2089.0)",
                  "True-(2060.0)"
                ],
                [
                  "14",
                  "reeves13",
                  "False-(2671.0)",
                  "True-(2608.0)",
                  "True-(2589.0)"
                ],
                [
                  "15",
                  "reeves5",
                  "False-(1574.0)",
                  "False-(1574.0)",
                  "True-(1557.0)"
                ],
                [
                  "16",
                  "reeves17",
                  "False-(3168.0)",
                  "True-(3166.0)",
                  "True-(3140.0)"
                ],
                [
                  "17",
                  "reeves1",
                  "False-(1257.0)",
                  "False-(1274.0)",
                  "True-(1249.0)"
                ],
                [
                  "18",
                  "reeves16",
                  "False-(3166.0)",
                  "True-(3137.0)",
                  "True-(3127.0)"
                ],
                [
                  "19",
                  "reeves14",
                  "False-(2492.0)",
                  "True-(2439.0)",
                  "True-(2426.0)"
                ],
                [
                  "20",
                  "reeves2",
                  "False-(1117.0)",
                  "False-(1122.0)",
                  "True-(1109.0)"
                ],
                [
                  "21",
                  "reeves3",
                  "False-(1271.0)",
                  "True-(1247.0)",
                  "True-(1245.0)"
                ],
                [
                  "22",
                  "reeves15",
                  "False-(2391.0)",
                  "True-(2370.0)",
                  "True-(2332.0)"
                ],
                [
                  "23",
                  "reeves18",
                  "False-(3291.0)",
                  "True-(3282.0)",
                  "True-(3280.0)"
                ],
                [
                  "24",
                  "reeves19",
                  "False-(5225.0)",
                  "True-(5156.0)",
                  "True-(5138.0)"
                ],
                [
                  "25",
                  "reeves8",
                  "False-(2027.0)",
                  "True-(1998.0)",
                  "True-(1993.0)"
                ],
                [
                  "26",
                  "reeves9",
                  "False-(1985.0)",
                  "True-(1959.0)",
                  "True-(1949.0)"
                ],
                [
                  "27",
                  "reeves21",
                  "False-(5184.0)",
                  "False-(5198.0)",
                  "True-(5154.0)"
                ],
                [
                  "28",
                  "reeves20",
                  "False-(5353.0)",
                  "True-(5257.0)",
                  "True-(5247.0)"
                ],
                [
                  "29",
                  "heller1",
                  "False-(518.0)",
                  "True-(517.0)",
                  "True-(514.0)"
                ],
                [
                  "30",
                  "heller2",
                  "False-(139.0)",
                  "False-(139.0)",
                  "True-(137.0)"
                ]
              ],
              "shape": {
                "columns": 4,
                "rows": 31
              }
            },
            "text/html": [
              "<div>\n",
              "<style scoped>\n",
              "    .dataframe tbody tr th:only-of-type {\n",
              "        vertical-align: middle;\n",
              "    }\n",
              "\n",
              "    .dataframe tbody tr th {\n",
              "        vertical-align: top;\n",
              "    }\n",
              "\n",
              "    .dataframe thead th {\n",
              "        text-align: right;\n",
              "    }\n",
              "</style>\n",
              "<table border=\"1\" class=\"dataframe\">\n",
              "  <thead>\n",
              "    <tr style=\"text-align: right;\">\n",
              "      <th></th>\n",
              "      <th>Instance</th>\n",
              "      <th>Base-FunSearch</th>\n",
              "      <th>FunSearch-PE</th>\n",
              "      <th>FunSearch-CL</th>\n",
              "    </tr>\n",
              "  </thead>\n",
              "  <tbody>\n",
              "    <tr>\n",
              "      <th>0</th>\n",
              "      <td>carlier3</td>\n",
              "      <td>False-(7543.0)</td>\n",
              "      <td>True-(7399.0)</td>\n",
              "      <td>True-(7312.0)</td>\n",
              "    </tr>\n",
              "    <tr>\n",
              "      <th>1</th>\n",
              "      <td>carlier2</td>\n",
              "      <td>False-(7376.0)</td>\n",
              "      <td>False-(7376.0)</td>\n",
              "      <td>True-(7166.0)</td>\n",
              "    </tr>\n",
              "    <tr>\n",
              "      <th>2</th>\n",
              "      <td>carlier1</td>\n",
              "      <td>False-(7038.0)</td>\n",
              "      <td>False-(7038.0)</td>\n",
              "      <td>False-(7038.0)</td>\n",
              "    </tr>\n",
              "    <tr>\n",
              "      <th>3</th>\n",
              "      <td>carlier5</td>\n",
              "      <td>False-(7767.0)</td>\n",
              "      <td>True-(7720.0)</td>\n",
              "      <td>True-(7749.0)</td>\n",
              "    </tr>\n",
              "    <tr>\n",
              "      <th>4</th>\n",
              "      <td>carlier4</td>\n",
              "      <td>False-(8129.0)</td>\n",
              "      <td>True-(8003.0)</td>\n",
              "      <td>True-(8003.0)</td>\n",
              "    </tr>\n",
              "    <tr>\n",
              "      <th>5</th>\n",
              "      <td>carlier6</td>\n",
              "      <td>False-(8570.0)</td>\n",
              "      <td>False-(8570.0)</td>\n",
              "      <td>True-(8505.0)</td>\n",
              "    </tr>\n",
              "    <tr>\n",
              "      <th>6</th>\n",
              "      <td>carlier7</td>\n",
              "      <td>False-(6590.0)</td>\n",
              "      <td>False-(6590.0)</td>\n",
              "      <td>False-(6590.0)</td>\n",
              "    </tr>\n",
              "    <tr>\n",
              "      <th>7</th>\n",
              "      <td>carlier8</td>\n",
              "      <td>False-(8457.0)</td>\n",
              "      <td>True-(8366.0)</td>\n",
              "      <td>True-(8366.0)</td>\n",
              "    </tr>\n",
              "    <tr>\n",
              "      <th>8</th>\n",
              "      <td>reeves7</td>\n",
              "      <td>False-(2004.0)</td>\n",
              "      <td>True-(1978.0)</td>\n",
              "      <td>True-(1958.0)</td>\n",
              "    </tr>\n",
              "    <tr>\n",
              "      <th>9</th>\n",
              "      <td>reeves11</td>\n",
              "      <td>False-(2095.0)</td>\n",
              "      <td>True-(2052.0)</td>\n",
              "      <td>True-(2050.0)</td>\n",
              "    </tr>\n",
              "    <tr>\n",
              "      <th>10</th>\n",
              "      <td>reeves10</td>\n",
              "      <td>False-(2132.0)</td>\n",
              "      <td>False-(2141.0)</td>\n",
              "      <td>True-(2120.0)</td>\n",
              "    </tr>\n",
              "    <tr>\n",
              "      <th>11</th>\n",
              "      <td>reeves6</td>\n",
              "      <td>False-(1500.0)</td>\n",
              "      <td>True-(1492.0)</td>\n",
              "      <td>True-(1447.0)</td>\n",
              "    </tr>\n",
              "    <tr>\n",
              "      <th>12</th>\n",
              "      <td>reeves4</td>\n",
              "      <td>False-(1599.0)</td>\n",
              "      <td>False-(1626.0)</td>\n",
              "      <td>False-(1601.0)</td>\n",
              "    </tr>\n",
              "    <tr>\n",
              "      <th>13</th>\n",
              "      <td>reeves12</td>\n",
              "      <td>False-(2128.0)</td>\n",
              "      <td>True-(2089.0)</td>\n",
              "      <td>True-(2060.0)</td>\n",
              "    </tr>\n",
              "    <tr>\n",
              "      <th>14</th>\n",
              "      <td>reeves13</td>\n",
              "      <td>False-(2671.0)</td>\n",
              "      <td>True-(2608.0)</td>\n",
              "      <td>True-(2589.0)</td>\n",
              "    </tr>\n",
              "    <tr>\n",
              "      <th>15</th>\n",
              "      <td>reeves5</td>\n",
              "      <td>False-(1574.0)</td>\n",
              "      <td>False-(1574.0)</td>\n",
              "      <td>True-(1557.0)</td>\n",
              "    </tr>\n",
              "    <tr>\n",
              "      <th>16</th>\n",
              "      <td>reeves17</td>\n",
              "      <td>False-(3168.0)</td>\n",
              "      <td>True-(3166.0)</td>\n",
              "      <td>True-(3140.0)</td>\n",
              "    </tr>\n",
              "    <tr>\n",
              "      <th>17</th>\n",
              "      <td>reeves1</td>\n",
              "      <td>False-(1257.0)</td>\n",
              "      <td>False-(1274.0)</td>\n",
              "      <td>True-(1249.0)</td>\n",
              "    </tr>\n",
              "    <tr>\n",
              "      <th>18</th>\n",
              "      <td>reeves16</td>\n",
              "      <td>False-(3166.0)</td>\n",
              "      <td>True-(3137.0)</td>\n",
              "      <td>True-(3127.0)</td>\n",
              "    </tr>\n",
              "    <tr>\n",
              "      <th>19</th>\n",
              "      <td>reeves14</td>\n",
              "      <td>False-(2492.0)</td>\n",
              "      <td>True-(2439.0)</td>\n",
              "      <td>True-(2426.0)</td>\n",
              "    </tr>\n",
              "    <tr>\n",
              "      <th>20</th>\n",
              "      <td>reeves2</td>\n",
              "      <td>False-(1117.0)</td>\n",
              "      <td>False-(1122.0)</td>\n",
              "      <td>True-(1109.0)</td>\n",
              "    </tr>\n",
              "    <tr>\n",
              "      <th>21</th>\n",
              "      <td>reeves3</td>\n",
              "      <td>False-(1271.0)</td>\n",
              "      <td>True-(1247.0)</td>\n",
              "      <td>True-(1245.0)</td>\n",
              "    </tr>\n",
              "    <tr>\n",
              "      <th>22</th>\n",
              "      <td>reeves15</td>\n",
              "      <td>False-(2391.0)</td>\n",
              "      <td>True-(2370.0)</td>\n",
              "      <td>True-(2332.0)</td>\n",
              "    </tr>\n",
              "    <tr>\n",
              "      <th>23</th>\n",
              "      <td>reeves18</td>\n",
              "      <td>False-(3291.0)</td>\n",
              "      <td>True-(3282.0)</td>\n",
              "      <td>True-(3280.0)</td>\n",
              "    </tr>\n",
              "    <tr>\n",
              "      <th>24</th>\n",
              "      <td>reeves19</td>\n",
              "      <td>False-(5225.0)</td>\n",
              "      <td>True-(5156.0)</td>\n",
              "      <td>True-(5138.0)</td>\n",
              "    </tr>\n",
              "    <tr>\n",
              "      <th>25</th>\n",
              "      <td>reeves8</td>\n",
              "      <td>False-(2027.0)</td>\n",
              "      <td>True-(1998.0)</td>\n",
              "      <td>True-(1993.0)</td>\n",
              "    </tr>\n",
              "    <tr>\n",
              "      <th>26</th>\n",
              "      <td>reeves9</td>\n",
              "      <td>False-(1985.0)</td>\n",
              "      <td>True-(1959.0)</td>\n",
              "      <td>True-(1949.0)</td>\n",
              "    </tr>\n",
              "    <tr>\n",
              "      <th>27</th>\n",
              "      <td>reeves21</td>\n",
              "      <td>False-(5184.0)</td>\n",
              "      <td>False-(5198.0)</td>\n",
              "      <td>True-(5154.0)</td>\n",
              "    </tr>\n",
              "    <tr>\n",
              "      <th>28</th>\n",
              "      <td>reeves20</td>\n",
              "      <td>False-(5353.0)</td>\n",
              "      <td>True-(5257.0)</td>\n",
              "      <td>True-(5247.0)</td>\n",
              "    </tr>\n",
              "    <tr>\n",
              "      <th>29</th>\n",
              "      <td>heller1</td>\n",
              "      <td>False-(518.0)</td>\n",
              "      <td>True-(517.0)</td>\n",
              "      <td>True-(514.0)</td>\n",
              "    </tr>\n",
              "    <tr>\n",
              "      <th>30</th>\n",
              "      <td>heller2</td>\n",
              "      <td>False-(139.0)</td>\n",
              "      <td>False-(139.0)</td>\n",
              "      <td>True-(137.0)</td>\n",
              "    </tr>\n",
              "  </tbody>\n",
              "</table>\n",
              "</div>"
            ],
            "text/plain": [
              "    Instance  Base-FunSearch    FunSearch-PE    FunSearch-CL\n",
              "0   carlier3  False-(7543.0)   True-(7399.0)   True-(7312.0)\n",
              "1   carlier2  False-(7376.0)  False-(7376.0)   True-(7166.0)\n",
              "2   carlier1  False-(7038.0)  False-(7038.0)  False-(7038.0)\n",
              "3   carlier5  False-(7767.0)   True-(7720.0)   True-(7749.0)\n",
              "4   carlier4  False-(8129.0)   True-(8003.0)   True-(8003.0)\n",
              "5   carlier6  False-(8570.0)  False-(8570.0)   True-(8505.0)\n",
              "6   carlier7  False-(6590.0)  False-(6590.0)  False-(6590.0)\n",
              "7   carlier8  False-(8457.0)   True-(8366.0)   True-(8366.0)\n",
              "8    reeves7  False-(2004.0)   True-(1978.0)   True-(1958.0)\n",
              "9   reeves11  False-(2095.0)   True-(2052.0)   True-(2050.0)\n",
              "10  reeves10  False-(2132.0)  False-(2141.0)   True-(2120.0)\n",
              "11   reeves6  False-(1500.0)   True-(1492.0)   True-(1447.0)\n",
              "12   reeves4  False-(1599.0)  False-(1626.0)  False-(1601.0)\n",
              "13  reeves12  False-(2128.0)   True-(2089.0)   True-(2060.0)\n",
              "14  reeves13  False-(2671.0)   True-(2608.0)   True-(2589.0)\n",
              "15   reeves5  False-(1574.0)  False-(1574.0)   True-(1557.0)\n",
              "16  reeves17  False-(3168.0)   True-(3166.0)   True-(3140.0)\n",
              "17   reeves1  False-(1257.0)  False-(1274.0)   True-(1249.0)\n",
              "18  reeves16  False-(3166.0)   True-(3137.0)   True-(3127.0)\n",
              "19  reeves14  False-(2492.0)   True-(2439.0)   True-(2426.0)\n",
              "20   reeves2  False-(1117.0)  False-(1122.0)   True-(1109.0)\n",
              "21   reeves3  False-(1271.0)   True-(1247.0)   True-(1245.0)\n",
              "22  reeves15  False-(2391.0)   True-(2370.0)   True-(2332.0)\n",
              "23  reeves18  False-(3291.0)   True-(3282.0)   True-(3280.0)\n",
              "24  reeves19  False-(5225.0)   True-(5156.0)   True-(5138.0)\n",
              "25   reeves8  False-(2027.0)   True-(1998.0)   True-(1993.0)\n",
              "26   reeves9  False-(1985.0)   True-(1959.0)   True-(1949.0)\n",
              "27  reeves21  False-(5184.0)  False-(5198.0)   True-(5154.0)\n",
              "28  reeves20  False-(5353.0)   True-(5257.0)   True-(5247.0)\n",
              "29   heller1   False-(518.0)    True-(517.0)    True-(514.0)\n",
              "30   heller2   False-(139.0)   False-(139.0)    True-(137.0)"
            ]
          },
          "execution_count": 48,
          "metadata": {},
          "output_type": "execute_result"
        }
      ],
      "source": [
        "evolve_results_df"
      ]
    },
    {
      "cell_type": "markdown",
      "id": "a37ba562",
      "metadata": {
        "id": "a37ba562"
      },
      "source": [
        "Save dataframes:"
      ]
    },
    {
      "cell_type": "code",
      "execution_count": null,
      "id": "4b7042b5",
      "metadata": {
        "id": "4b7042b5"
      },
      "outputs": [],
      "source": [
        "# base_results_df.to_pickle('results/base-results.pkl')\n",
        "# evolve_results_df.to_pickle('results/evolve-results.pkl')"
      ]
    },
    {
      "cell_type": "markdown",
      "id": "618ca771",
      "metadata": {
        "id": "618ca771"
      },
      "source": [
        "Check the proportion:"
      ]
    },
    {
      "cell_type": "code",
      "execution_count": null,
      "id": "446d0562",
      "metadata": {
        "id": "446d0562",
        "outputId": "934c211f-01b0-4690-b858-c1fda047a22f"
      },
      "outputs": [
        {
          "name": "stdout",
          "output_type": "stream",
          "text": [
            "[Base] Base-FunSearch: The proportion of instances with better result: 0.6774\n",
            "[Base] FunSearch-PE: The proportion of instances with better result: 0.8065\n",
            "[Base] FunSearch-CL: The proportion of instances with better result: 0.9032\n",
            "[Evolved] FunSearch-PE: The proportion of instances with better result: 0.6452\n",
            "[Evolved] FunSearch-CL: The proportion of instances with better result: 0.9032\n"
          ]
        }
      ],
      "source": [
        "N = 31\n",
        "\n",
        "base_pe_num = base_results_df['FunSearch-PE'].str.startswith('True').sum()\n",
        "base_cl_num = base_results_df['FunSearch-CL'].str.startswith('True').sum()\n",
        "base_base_num = base_results_df['Base-FunSearch'].str.startswith('True').sum()\n",
        "print(f\"[Base] Base-FunSearch: The proportion of instances with better result: {base_base_num/N:.4f}\")\n",
        "print(f\"[Base] FunSearch-PE: The proportion of instances with better result: {base_pe_num/N:.4f}\")\n",
        "print(f\"[Base] FunSearch-CL: The proportion of instances with better result: {base_cl_num/N:.4f}\")\n",
        "\n",
        "evolve_pe_num = evolve_results_df['FunSearch-PE'].str.startswith('True').sum()\n",
        "evolve_cl_num = evolve_results_df['FunSearch-CL'].str.startswith('True').sum()\n",
        "print(f\"[Evolved] FunSearch-PE: The proportion of instances with better result: {evolve_pe_num/N:.4f}\")\n",
        "print(f\"[Evolved] FunSearch-CL: The proportion of instances with better result: {evolve_cl_num/N:.4f}\")"
      ]
    },
    {
      "cell_type": "markdown",
      "id": "26cb78d6",
      "metadata": {
        "id": "26cb78d6"
      },
      "source": [
        "### <u>Brief Conclusion</u>\n",
        "\n",
        "According to the experiments above, the effectiveness of our approaches are quite straightforward, although there're still some limited validations like the usage of dataset and wider range of variants in the evaluation. We can have these conclusions:\n",
        "- Both FunSearch-PE and FunSearch-CL are resultful regarding the improvement of original FunSearch process\n",
        "- The functions generated from the FunSearch-PE framework are less complicated while guaranteeing the nearly optimal output\n",
        "    - But it also needs domain knowledge to design an appropriate prompt\n",
        "- The functions generated from the FunSearch-CL framework are normally way better than the existing heuristics as well as most of the other functions. New heuristics which can reach a higher level performance can be found using this framework\n",
        "    - The evolved functions are quite complicated which may have high time complexity"
      ]
    },
    {
      "cell_type": "markdown",
      "id": "58e1fe63",
      "metadata": {
        "id": "58e1fe63"
      },
      "source": []
    }
  ],
  "metadata": {
    "kernelspec": {
      "display_name": "funsearch_env",
      "language": "python",
      "name": "python3"
    },
    "language_info": {
      "codemirror_mode": {
        "name": "ipython",
        "version": 3
      },
      "file_extension": ".py",
      "mimetype": "text/x-python",
      "name": "python",
      "nbconvert_exporter": "python",
      "pygments_lexer": "ipython3",
      "version": "3.10.17"
    },
    "colab": {
      "provenance": [],
      "include_colab_link": true
    }
  },
  "nbformat": 4,
  "nbformat_minor": 5
}